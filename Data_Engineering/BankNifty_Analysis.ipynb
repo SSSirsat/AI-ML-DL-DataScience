{
 "cells": [
  {
   "cell_type": "code",
   "execution_count": 26,
   "id": "7820d9c2",
   "metadata": {},
   "outputs": [],
   "source": [
    "import numpy as np\n",
    "import pandas as pd\n",
    "import matplotlib.pyplot as plt\n",
    "\n",
    "from sklearn.preprocessing import MinMaxScaler\n",
    "from keras.models import Sequential\n",
    "from keras.layers import Dense,LSTM,Dropout"
   ]
  },
  {
   "cell_type": "code",
   "execution_count": 2,
   "id": "cdf41b5a",
   "metadata": {},
   "outputs": [],
   "source": [
    "df = pd.read_csv(\"Data/NIFTY-BANK-14-09-2022-to-14-09-2023.csv\")"
   ]
  },
  {
   "cell_type": "code",
   "execution_count": 3,
   "id": "0574ef17",
   "metadata": {},
   "outputs": [
    {
     "data": {
      "text/html": [
       "<div>\n",
       "<style scoped>\n",
       "    .dataframe tbody tr th:only-of-type {\n",
       "        vertical-align: middle;\n",
       "    }\n",
       "\n",
       "    .dataframe tbody tr th {\n",
       "        vertical-align: top;\n",
       "    }\n",
       "\n",
       "    .dataframe thead th {\n",
       "        text-align: right;\n",
       "    }\n",
       "</style>\n",
       "<table border=\"1\" class=\"dataframe\">\n",
       "  <thead>\n",
       "    <tr style=\"text-align: right;\">\n",
       "      <th></th>\n",
       "      <th>Date</th>\n",
       "      <th>Open</th>\n",
       "      <th>High</th>\n",
       "      <th>Low</th>\n",
       "      <th>Close</th>\n",
       "      <th>Shares Traded</th>\n",
       "      <th>Turnover (₹ Cr)</th>\n",
       "    </tr>\n",
       "  </thead>\n",
       "  <tbody>\n",
       "    <tr>\n",
       "      <th>0</th>\n",
       "      <td>14-SEP-2022</td>\n",
       "      <td>40308.80</td>\n",
       "      <td>41626.90</td>\n",
       "      <td>40288.90</td>\n",
       "      <td>41405.4</td>\n",
       "      <td>218413793.0</td>\n",
       "      <td>8227.00</td>\n",
       "    </tr>\n",
       "    <tr>\n",
       "      <th>1</th>\n",
       "      <td>15-SEP-2022</td>\n",
       "      <td>41533.70</td>\n",
       "      <td>41840.15</td>\n",
       "      <td>41153.50</td>\n",
       "      <td>41209.2</td>\n",
       "      <td>245307055.0</td>\n",
       "      <td>6772.31</td>\n",
       "    </tr>\n",
       "    <tr>\n",
       "      <th>2</th>\n",
       "      <td>16-SEP-2022</td>\n",
       "      <td>40977.20</td>\n",
       "      <td>41162.50</td>\n",
       "      <td>40502.05</td>\n",
       "      <td>40776.8</td>\n",
       "      <td>244187210.0</td>\n",
       "      <td>8926.40</td>\n",
       "    </tr>\n",
       "    <tr>\n",
       "      <th>3</th>\n",
       "      <td>19-SEP-2022</td>\n",
       "      <td>40685.60</td>\n",
       "      <td>41184.25</td>\n",
       "      <td>40509.90</td>\n",
       "      <td>40904.4</td>\n",
       "      <td>206028623.0</td>\n",
       "      <td>5828.98</td>\n",
       "    </tr>\n",
       "    <tr>\n",
       "      <th>4</th>\n",
       "      <td>20-SEP-2022</td>\n",
       "      <td>41304.15</td>\n",
       "      <td>41677.65</td>\n",
       "      <td>41207.30</td>\n",
       "      <td>41468.3</td>\n",
       "      <td>175202873.0</td>\n",
       "      <td>5080.23</td>\n",
       "    </tr>\n",
       "  </tbody>\n",
       "</table>\n",
       "</div>"
      ],
      "text/plain": [
       "         Date      Open      High       Low    Close   Shares Traded   \\\n",
       "0  14-SEP-2022  40308.80  41626.90  40288.90  41405.4     218413793.0   \n",
       "1  15-SEP-2022  41533.70  41840.15  41153.50  41209.2     245307055.0   \n",
       "2  16-SEP-2022  40977.20  41162.50  40502.05  40776.8     244187210.0   \n",
       "3  19-SEP-2022  40685.60  41184.25  40509.90  40904.4     206028623.0   \n",
       "4  20-SEP-2022  41304.15  41677.65  41207.30  41468.3     175202873.0   \n",
       "\n",
       "   Turnover (₹ Cr)  \n",
       "0          8227.00  \n",
       "1          6772.31  \n",
       "2          8926.40  \n",
       "3          5828.98  \n",
       "4          5080.23  "
      ]
     },
     "execution_count": 3,
     "metadata": {},
     "output_type": "execute_result"
    }
   ],
   "source": [
    "df.head()"
   ]
  },
  {
   "cell_type": "code",
   "execution_count": 13,
   "id": "7f2bd5b2",
   "metadata": {},
   "outputs": [
    {
     "name": "stdout",
     "output_type": "stream",
     "text": [
      "<class 'pandas.core.frame.DataFrame'>\n",
      "RangeIndex: 248 entries, 0 to 247\n",
      "Data columns (total 7 columns):\n",
      " #   Column           Non-Null Count  Dtype  \n",
      "---  ------           --------------  -----  \n",
      " 0   Date             248 non-null    object \n",
      " 1   Open             248 non-null    float64\n",
      " 2   High             248 non-null    float64\n",
      " 3   Low              248 non-null    float64\n",
      " 4   Close            248 non-null    float64\n",
      " 5   Shares Traded    247 non-null    float64\n",
      " 6   Turnover (₹ Cr)  247 non-null    float64\n",
      "dtypes: float64(6), object(1)\n",
      "memory usage: 13.7+ KB\n"
     ]
    }
   ],
   "source": [
    "df.info()"
   ]
  },
  {
   "cell_type": "code",
   "execution_count": 5,
   "id": "56ea192c",
   "metadata": {},
   "outputs": [
    {
     "data": {
      "text/plain": [
       "list"
      ]
     },
     "execution_count": 5,
     "metadata": {},
     "output_type": "execute_result"
    }
   ],
   "source": [
    "type(df['Date '].str.split('-')[1])"
   ]
  },
  {
   "cell_type": "code",
   "execution_count": 16,
   "id": "c712ba28",
   "metadata": {},
   "outputs": [],
   "source": [
    "df = df.dropna()\n",
    "trainData = df.iloc[:,4:5].values"
   ]
  },
  {
   "cell_type": "code",
   "execution_count": null,
   "id": "e5b53554-aaf8-415f-a4eb-dad02766f1dd",
   "metadata": {},
   "outputs": [],
   "source": [
    "# from sklearn.model_selection import train_test_split\n",
    "# X_train, X_test, y_train, y_test = train_test_split(df"
   ]
  },
  {
   "cell_type": "code",
   "execution_count": 17,
   "id": "f1c71e6d",
   "metadata": {},
   "outputs": [
    {
     "data": {
      "text/plain": [
       "(247, 1)"
      ]
     },
     "execution_count": 17,
     "metadata": {},
     "output_type": "execute_result"
    }
   ],
   "source": [
    "sc = MinMaxScaler(feature_range=(0,1))\n",
    "train_Data = sc.fit_transform(trainData)\n",
    "train_Data.shape"
   ]
  },
  {
   "cell_type": "code",
   "execution_count": 18,
   "id": "317c9fbf",
   "metadata": {},
   "outputs": [],
   "source": [
    "X_train = []\n",
    "y_train = []\n",
    "for i in range (60,247):\n",
    "    X_train.append(train_Data[i-60:i,0])\n",
    "    y_train.append(train_Data[i,0])\n",
    "\n",
    "X_train,y_train = np.array(X_train),np.array(y_train)"
   ]
  },
  {
   "cell_type": "code",
   "execution_count": 20,
   "id": "2cb2488b",
   "metadata": {},
   "outputs": [
    {
     "data": {
      "text/plain": [
       "(187, 60, 1)"
      ]
     },
     "execution_count": 20,
     "metadata": {},
     "output_type": "execute_result"
    }
   ],
   "source": [
    "X_train = np.reshape(X_train,(X_train.shape[0],X_train.shape[1],1))\n",
    "X_train.shape"
   ]
  },
  {
   "cell_type": "code",
   "execution_count": 22,
   "id": "4746d521",
   "metadata": {},
   "outputs": [],
   "source": [
    "model = Sequential()\n",
    "\n",
    "model.add(LSTM(units=100, return_sequences= True, input_shape = (X_train.shape[1],1)))\n",
    "model.add(Dropout(0.2))\n",
    "\n",
    "model.add(LSTM(units=100, return_sequences= True))\n",
    "model.add(Dropout(0.2))\n",
    "\n",
    "model.add(LSTM(units=100, return_sequences= True))\n",
    "model.add(Dropout(0.2))\n",
    "\n",
    "model.add(LSTM(units=100, return_sequences= True))\n",
    "model.add(Dropout(0.2))\n",
    "\n",
    "model.add(Dense(units =1))\n",
    "model.compile(optimizer='adam', loss='mean_squared_error')"
   ]
  },
  {
   "cell_type": "code",
   "execution_count": 23,
   "id": "a74eac3f-0ffc-4b8b-ba4d-aafe07ad65be",
   "metadata": {},
   "outputs": [
    {
     "name": "stdout",
     "output_type": "stream",
     "text": [
      "Epoch 1/20\n",
      "6/6 - 7s - loss: 0.2431 - 7s/epoch - 1s/step\n",
      "Epoch 2/20\n",
      "6/6 - 1s - loss: 0.1119 - 950ms/epoch - 158ms/step\n",
      "Epoch 3/20\n",
      "6/6 - 1s - loss: 0.0886 - 943ms/epoch - 157ms/step\n",
      "Epoch 4/20\n",
      "6/6 - 1s - loss: 0.0765 - 956ms/epoch - 159ms/step\n",
      "Epoch 5/20\n",
      "6/6 - 1s - loss: 0.0686 - 928ms/epoch - 155ms/step\n",
      "Epoch 6/20\n",
      "6/6 - 1s - loss: 0.0642 - 919ms/epoch - 153ms/step\n",
      "Epoch 7/20\n",
      "6/6 - 1s - loss: 0.0622 - 891ms/epoch - 148ms/step\n",
      "Epoch 8/20\n",
      "6/6 - 1s - loss: 0.0599 - 880ms/epoch - 147ms/step\n",
      "Epoch 9/20\n",
      "6/6 - 1s - loss: 0.0601 - 890ms/epoch - 148ms/step\n",
      "Epoch 10/20\n",
      "6/6 - 1s - loss: 0.0572 - 909ms/epoch - 152ms/step\n",
      "Epoch 11/20\n",
      "6/6 - 1s - loss: 0.0556 - 886ms/epoch - 148ms/step\n",
      "Epoch 12/20\n",
      "6/6 - 1s - loss: 0.0548 - 896ms/epoch - 149ms/step\n",
      "Epoch 13/20\n",
      "6/6 - 1s - loss: 0.0539 - 925ms/epoch - 154ms/step\n",
      "Epoch 14/20\n",
      "6/6 - 1s - loss: 0.0542 - 883ms/epoch - 147ms/step\n",
      "Epoch 15/20\n",
      "6/6 - 1s - loss: 0.0541 - 894ms/epoch - 149ms/step\n",
      "Epoch 16/20\n",
      "6/6 - 1s - loss: 0.0536 - 895ms/epoch - 149ms/step\n",
      "Epoch 17/20\n",
      "6/6 - 1s - loss: 0.0543 - 895ms/epoch - 149ms/step\n",
      "Epoch 18/20\n",
      "6/6 - 1s - loss: 0.0541 - 905ms/epoch - 151ms/step\n",
      "Epoch 19/20\n",
      "6/6 - 1s - loss: 0.0528 - 884ms/epoch - 147ms/step\n",
      "Epoch 20/20\n",
      "6/6 - 1s - loss: 0.0511 - 896ms/epoch - 149ms/step\n"
     ]
    }
   ],
   "source": [
    "hist = model.fit(X_train, y_train, epochs = 20, batch_size=32, verbose=2)"
   ]
  },
  {
   "cell_type": "code",
   "execution_count": 27,
   "id": "a36bce4c-e91d-4b5c-943f-2bff7bb8abfa",
   "metadata": {},
   "outputs": [
    {
     "ename": "AttributeError",
     "evalue": "module 'matplotlib.pyplot' has no attribute 'ylable'",
     "output_type": "error",
     "traceback": [
      "\u001b[1;31m---------------------------------------------------------------------------\u001b[0m",
      "\u001b[1;31mAttributeError\u001b[0m                            Traceback (most recent call last)",
      "Cell \u001b[1;32mIn[27], line 3\u001b[0m\n\u001b[0;32m      1\u001b[0m plt\u001b[38;5;241m.\u001b[39mplot(hist\u001b[38;5;241m.\u001b[39mhistory[\u001b[38;5;124m'\u001b[39m\u001b[38;5;124mloss\u001b[39m\u001b[38;5;124m'\u001b[39m])\n\u001b[0;32m      2\u001b[0m plt\u001b[38;5;241m.\u001b[39mtitle(\u001b[38;5;124m\"\u001b[39m\u001b[38;5;124mTraining model loss\u001b[39m\u001b[38;5;124m\"\u001b[39m)\n\u001b[1;32m----> 3\u001b[0m \u001b[43mplt\u001b[49m\u001b[38;5;241;43m.\u001b[39;49m\u001b[43mylable\u001b[49m(\u001b[38;5;124m'\u001b[39m\u001b[38;5;124mloss\u001b[39m\u001b[38;5;124m'\u001b[39m)\n\u001b[0;32m      4\u001b[0m plt\u001b[38;5;241m.\u001b[39mxlable(\u001b[38;5;124m'\u001b[39m\u001b[38;5;124mepoch\u001b[39m\u001b[38;5;124m'\u001b[39m)\n\u001b[0;32m      5\u001b[0m plt\u001b[38;5;241m.\u001b[39mlegend([\u001b[38;5;124m'\u001b[39m\u001b[38;5;124mtrain\u001b[39m\u001b[38;5;124m'\u001b[39m], loc \u001b[38;5;241m=\u001b[39m \u001b[38;5;124m'\u001b[39m\u001b[38;5;124mupper left\u001b[39m\u001b[38;5;124m'\u001b[39m)\n",
      "\u001b[1;31mAttributeError\u001b[0m: module 'matplotlib.pyplot' has no attribute 'ylable'"
     ]
    },
    {
     "data": {
      "image/png": "[encoded data removed]",
      "text/plain": [
       "<Figure size 640x480 with 1 Axes>"
      ]
     },
     "metadata": {},
     "output_type": "display_data"
    }
   ],
   "source": [
    "plt.plot(hist.history['loss'])\n",
    "plt.title(\"Training model loss\")\n",
    "plt.ylable('loss')\n",
    "plt.xlable('epoch')\n",
    "plt.legend(['train'], loc = 'upper left')\n",
    "plt.show()"
   ]
  },
  {
   "cell_type": "code",
   "execution_count": 28,
   "id": "cdafd250-aff8-4aee-98bf-f05c2c068972",
   "metadata": {},
   "outputs": [
    {
     "data": {
      "text/plain": [
       "(187, 60, 1)"
      ]
     },
     "execution_count": 28,
     "metadata": {},
     "output_type": "execute_result"
    }
   ],
   "source": [
    "testdf = pd.read_csv(\"Data/NIFTY-BANK-14-09-2022-to-14-09-2023.csv\")\n",
    "testdf = testdf.dropna()\n",
    "testdf = testdf.iloc[:,4:5]\n",
    "y_testdf = testdf.iloc[60:,0:].values\n",
    "\n",
    "inputClosing = testdf.iloc[:,0:].values\n",
    "inputclosing_scaled = sc.transform(inputClosing)\n",
    "inputclosing_scaled.shape\n",
    "X_test = []\n",
    "length = len(testdf)\n",
    "timestep = 60\n",
    "for i in range(timestep,length):\n",
    "    X_test.append(inputclosing_scaled[i-timestep:i,0])\n",
    "X_test = np.array(X_test)\n",
    "X_test = np.reshape(X_test,(X_test.shape[0],X_test.shape[1],1))\n",
    "X_test.shape"
   ]
  },
  {
   "cell_type": "code",
   "execution_count": 29,
   "id": "95b7df4c-baf3-4df5-962f-11878cf49449",
   "metadata": {},
   "outputs": [
    {
     "name": "stdout",
     "output_type": "stream",
     "text": [
      "6/6 [==============================] - 1s 46ms/step\n"
     ]
    },
    {
     "data": {
      "text/plain": [
       "array([[[0.16304654],\n",
       "        [0.28616703],\n",
       "        [0.39610276],\n",
       "        ...,\n",
       "        [0.58444834],\n",
       "        [0.584481  ],\n",
       "        [0.58472925]],\n",
       "\n",
       "       [[0.16296178],\n",
       "        [0.28577456],\n",
       "        [0.39538646],\n",
       "        ...,\n",
       "        [0.5844798 ],\n",
       "        [0.5847285 ],\n",
       "        [0.58522654]],\n",
       "\n",
       "       [[0.1627748 ],\n",
       "        [0.28535184],\n",
       "        [0.39501977],\n",
       "        ...,\n",
       "        [0.5847273 ],\n",
       "        [0.58522576],\n",
       "        [0.58594775]],\n",
       "\n",
       "       ...,\n",
       "\n",
       "       [[0.16415659],\n",
       "        [0.28987932],\n",
       "        [0.40374452],\n",
       "        ...,\n",
       "        [0.5927515 ],\n",
       "        [0.5923145 ],\n",
       "        [0.5921117 ]],\n",
       "\n",
       "       [[0.1639235 ],\n",
       "        [0.28949127],\n",
       "        [0.40324748],\n",
       "        ...,\n",
       "        [0.5923127 ],\n",
       "        [0.5921103 ],\n",
       "        [0.59228384]],\n",
       "\n",
       "       [[0.16413528],\n",
       "        [0.28990206],\n",
       "        [0.40378848],\n",
       "        ...,\n",
       "        [0.5921086 ],\n",
       "        [0.59228265],\n",
       "        [0.5927897 ]]], dtype=float32)"
      ]
     },
     "execution_count": 29,
     "metadata": {},
     "output_type": "execute_result"
    }
   ],
   "source": [
    "y_pred = model.predict(X_test)\n",
    "y_pred"
   ]
  },
  {
   "cell_type": "code",
   "execution_count": 30,
   "id": "33df6885-eeb7-49b8-9d4f-1734ea986b93",
   "metadata": {},
   "outputs": [
    {
     "ename": "ValueError",
     "evalue": "Found array with dim 3. None expected <= 2.",
     "output_type": "error",
     "traceback": [
      "\u001b[1;31m---------------------------------------------------------------------------\u001b[0m",
      "\u001b[1;31mValueError\u001b[0m                                Traceback (most recent call last)",
      "Cell \u001b[1;32mIn[30], line 1\u001b[0m\n\u001b[1;32m----> 1\u001b[0m predicted_price \u001b[38;5;241m=\u001b[39m \u001b[43msc\u001b[49m\u001b[38;5;241;43m.\u001b[39;49m\u001b[43minverse_transform\u001b[49m\u001b[43m(\u001b[49m\u001b[43my_pred\u001b[49m\u001b[43m)\u001b[49m\n",
      "File \u001b[1;32m~\\AppData\\Local\\Programs\\Python\\Python39\\lib\\site-packages\\sklearn\\preprocessing\\_data.py:543\u001b[0m, in \u001b[0;36mMinMaxScaler.inverse_transform\u001b[1;34m(self, X)\u001b[0m\n\u001b[0;32m    529\u001b[0m \u001b[38;5;250m\u001b[39m\u001b[38;5;124;03m\"\"\"Undo the scaling of X according to feature_range.\u001b[39;00m\n\u001b[0;32m    530\u001b[0m \n\u001b[0;32m    531\u001b[0m \u001b[38;5;124;03mParameters\u001b[39;00m\n\u001b[1;32m   (...)\u001b[0m\n\u001b[0;32m    539\u001b[0m \u001b[38;5;124;03m    Transformed data.\u001b[39;00m\n\u001b[0;32m    540\u001b[0m \u001b[38;5;124;03m\"\"\"\u001b[39;00m\n\u001b[0;32m    541\u001b[0m check_is_fitted(\u001b[38;5;28mself\u001b[39m)\n\u001b[1;32m--> 543\u001b[0m X \u001b[38;5;241m=\u001b[39m \u001b[43mcheck_array\u001b[49m\u001b[43m(\u001b[49m\n\u001b[0;32m    544\u001b[0m \u001b[43m    \u001b[49m\u001b[43mX\u001b[49m\u001b[43m,\u001b[49m\u001b[43m \u001b[49m\u001b[43mcopy\u001b[49m\u001b[38;5;241;43m=\u001b[39;49m\u001b[38;5;28;43mself\u001b[39;49m\u001b[38;5;241;43m.\u001b[39;49m\u001b[43mcopy\u001b[49m\u001b[43m,\u001b[49m\u001b[43m \u001b[49m\u001b[43mdtype\u001b[49m\u001b[38;5;241;43m=\u001b[39;49m\u001b[43mFLOAT_DTYPES\u001b[49m\u001b[43m,\u001b[49m\u001b[43m \u001b[49m\u001b[43mforce_all_finite\u001b[49m\u001b[38;5;241;43m=\u001b[39;49m\u001b[38;5;124;43m\"\u001b[39;49m\u001b[38;5;124;43mallow-nan\u001b[39;49m\u001b[38;5;124;43m\"\u001b[39;49m\n\u001b[0;32m    545\u001b[0m \u001b[43m\u001b[49m\u001b[43m)\u001b[49m\n\u001b[0;32m    547\u001b[0m X \u001b[38;5;241m-\u001b[39m\u001b[38;5;241m=\u001b[39m \u001b[38;5;28mself\u001b[39m\u001b[38;5;241m.\u001b[39mmin_\n\u001b[0;32m    548\u001b[0m X \u001b[38;5;241m/\u001b[39m\u001b[38;5;241m=\u001b[39m \u001b[38;5;28mself\u001b[39m\u001b[38;5;241m.\u001b[39mscale_\n",
      "File \u001b[1;32m~\\AppData\\Local\\Programs\\Python\\Python39\\lib\\site-packages\\sklearn\\utils\\validation.py:953\u001b[0m, in \u001b[0;36mcheck_array\u001b[1;34m(array, accept_sparse, accept_large_sparse, dtype, order, copy, force_all_finite, ensure_2d, allow_nd, ensure_min_samples, ensure_min_features, estimator, input_name)\u001b[0m\n\u001b[0;32m    948\u001b[0m     \u001b[38;5;28;01mraise\u001b[39;00m \u001b[38;5;167;01mValueError\u001b[39;00m(\n\u001b[0;32m    949\u001b[0m         \u001b[38;5;124m\"\u001b[39m\u001b[38;5;124mdtype=\u001b[39m\u001b[38;5;124m'\u001b[39m\u001b[38;5;124mnumeric\u001b[39m\u001b[38;5;124m'\u001b[39m\u001b[38;5;124m is not compatible with arrays of bytes/strings.\u001b[39m\u001b[38;5;124m\"\u001b[39m\n\u001b[0;32m    950\u001b[0m         \u001b[38;5;124m\"\u001b[39m\u001b[38;5;124mConvert your data to numeric values explicitly instead.\u001b[39m\u001b[38;5;124m\"\u001b[39m\n\u001b[0;32m    951\u001b[0m     )\n\u001b[0;32m    952\u001b[0m \u001b[38;5;28;01mif\u001b[39;00m \u001b[38;5;129;01mnot\u001b[39;00m allow_nd \u001b[38;5;129;01mand\u001b[39;00m array\u001b[38;5;241m.\u001b[39mndim \u001b[38;5;241m>\u001b[39m\u001b[38;5;241m=\u001b[39m \u001b[38;5;241m3\u001b[39m:\n\u001b[1;32m--> 953\u001b[0m     \u001b[38;5;28;01mraise\u001b[39;00m \u001b[38;5;167;01mValueError\u001b[39;00m(\n\u001b[0;32m    954\u001b[0m         \u001b[38;5;124m\"\u001b[39m\u001b[38;5;124mFound array with dim \u001b[39m\u001b[38;5;132;01m%d\u001b[39;00m\u001b[38;5;124m. \u001b[39m\u001b[38;5;132;01m%s\u001b[39;00m\u001b[38;5;124m expected <= 2.\u001b[39m\u001b[38;5;124m\"\u001b[39m\n\u001b[0;32m    955\u001b[0m         \u001b[38;5;241m%\u001b[39m (array\u001b[38;5;241m.\u001b[39mndim, estimator_name)\n\u001b[0;32m    956\u001b[0m     )\n\u001b[0;32m    958\u001b[0m \u001b[38;5;28;01mif\u001b[39;00m force_all_finite:\n\u001b[0;32m    959\u001b[0m     _assert_all_finite(\n\u001b[0;32m    960\u001b[0m         array,\n\u001b[0;32m    961\u001b[0m         input_name\u001b[38;5;241m=\u001b[39minput_name,\n\u001b[0;32m    962\u001b[0m         estimator_name\u001b[38;5;241m=\u001b[39mestimator_name,\n\u001b[0;32m    963\u001b[0m         allow_nan\u001b[38;5;241m=\u001b[39mforce_all_finite \u001b[38;5;241m==\u001b[39m \u001b[38;5;124m\"\u001b[39m\u001b[38;5;124mallow-nan\u001b[39m\u001b[38;5;124m\"\u001b[39m,\n\u001b[0;32m    964\u001b[0m     )\n",
      "\u001b[1;31mValueError\u001b[0m: Found array with dim 3. None expected <= 2."
     ]
    }
   ],
   "source": [
    "predicted_price = sc.inverse_transform(y_pred)"
   ]
  },
  {
   "cell_type": "code",
   "execution_count": null,
   "id": "b6e75b20-4174-4cec-af66-d11d4d32aabe",
   "metadata": {},
   "outputs": [],
   "source": []
  }
 ],
 "metadata": {
  "kernelspec": {
   "display_name": "Python 3 (ipykernel)",
   "language": "python",
   "name": "python3"
  },
  "language_info": {
   "codemirror_mode": {
    "name": "ipython",
    "version": 3
   },
   "file_extension": ".py",
   "mimetype": "text/x-python",
   "name": "python",
   "nbconvert_exporter": "python",
   "pygments_lexer": "ipython3",
   "version": "3.9.12"
  }
 },
 "nbformat": 4,
 "nbformat_minor": 5
}
