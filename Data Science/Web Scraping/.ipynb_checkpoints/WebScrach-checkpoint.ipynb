{
 "cells": [
  {
   "cell_type": "code",
   "execution_count": 1,
   "id": "70c099c6",
   "metadata": {},
   "outputs": [],
   "source": [
    "import pandas as pd\n",
    "from bs4 import BeautifulSoup\n",
    "import requests"
   ]
  },
  {
   "cell_type": "code",
   "execution_count": 2,
   "id": "f259bbdd",
   "metadata": {},
   "outputs": [],
   "source": [
    "url = \"https://nvd.nist.gov/vuln/detail/CVE-2019-20203\""
   ]
  },
  {
   "cell_type": "code",
   "execution_count": 3,
   "id": "a8874d23",
   "metadata": {},
   "outputs": [],
   "source": [
    "r = requests.get(url)"
   ]
  },
  {
   "cell_type": "code",
   "execution_count": 5,
   "id": "10b97be2",
   "metadata": {},
   "outputs": [],
   "source": [
    "soup = BeautifulSoup(r.text, 'html.parser')"
   ]
  },
  {
   "cell_type": "code",
   "execution_count": 6,
   "id": "9c9f4b18",
   "metadata": {},
   "outputs": [
    {
     "data": {
      "text/plain": [
       "<title>NVD - CVE-2019-20203</title>"
      ]
     },
     "execution_count": 6,
     "metadata": {},
     "output_type": "execute_result"
    }
   ],
   "source": [
    "soup.title"
   ]
  },
  {
   "cell_type": "code",
   "execution_count": 62,
   "id": "b31bb15a",
   "metadata": {},
   "outputs": [],
   "source": [
    "# zip_pop_table = soup.find('table',class_='table table-striped table-condensed table-bordered detail-table')\n",
    "# zip_pop_table"
   ]
  },
  {
   "cell_type": "code",
   "execution_count": 21,
   "id": "902f0d91",
   "metadata": {},
   "outputs": [],
   "source": [
    "for row in zip_pop_table.find_all('tr'):\n",
    "    cols = row.find_all('td')\n",
    "    row_list = [ data.text for data in cols ]\n",
    "    \n",
    "    temp_df = pd.DataFrame([row_list])"
   ]
  },
  {
   "cell_type": "code",
   "execution_count": 61,
   "id": "f4a329bf",
   "metadata": {},
   "outputs": [
    {
     "name": "stdout",
     "output_type": "stream",
     "text": [
      "total no of tables 6\n",
      "    CWE-ID                           CWE Name Source\n",
      "0  CWE-290  Authentication Bypass by Spoofing   NIST\n"
     ]
    },
    {
     "data": {
      "text/html": [
       "<div>\n",
       "<style scoped>\n",
       "    .dataframe tbody tr th:only-of-type {\n",
       "        vertical-align: middle;\n",
       "    }\n",
       "\n",
       "    .dataframe tbody tr th {\n",
       "        vertical-align: top;\n",
       "    }\n",
       "\n",
       "    .dataframe thead th {\n",
       "        text-align: right;\n",
       "    }\n",
       "</style>\n",
       "<table border=\"1\" class=\"dataframe\">\n",
       "  <thead>\n",
       "    <tr style=\"text-align: right;\">\n",
       "      <th></th>\n",
       "      <th>Hyperlink</th>\n",
       "      <th>Resource</th>\n",
       "    </tr>\n",
       "  </thead>\n",
       "  <tbody>\n",
       "    <tr>\n",
       "      <th>0</th>\n",
       "      <td>https://github.com/V1n1v131r4/Exploiting-Posti...</td>\n",
       "      <td>Exploit Third Party Advisory</td>\n",
       "    </tr>\n",
       "    <tr>\n",
       "      <th>1</th>\n",
       "      <td>https://postieplugin.com/</td>\n",
       "      <td>Product</td>\n",
       "    </tr>\n",
       "    <tr>\n",
       "      <th>2</th>\n",
       "      <td>https://wordpress.org/plugins/postie/#developers</td>\n",
       "      <td>Release Notes Vendor Advisory</td>\n",
       "    </tr>\n",
       "    <tr>\n",
       "      <th>3</th>\n",
       "      <td>https://wpvulndb.com/vulnerabilities/10002</td>\n",
       "      <td>Third Party Advisory</td>\n",
       "    </tr>\n",
       "  </tbody>\n",
       "</table>\n",
       "</div>"
      ],
      "text/plain": [
       "                                           Hyperlink  \\\n",
       "0  https://github.com/V1n1v131r4/Exploiting-Posti...   \n",
       "1                          https://postieplugin.com/   \n",
       "2   https://wordpress.org/plugins/postie/#developers   \n",
       "3         https://wpvulndb.com/vulnerabilities/10002   \n",
       "\n",
       "                        Resource  \n",
       "0   Exploit Third Party Advisory  \n",
       "1                        Product  \n",
       "2  Release Notes Vendor Advisory  \n",
       "3           Third Party Advisory  "
      ]
     },
     "execution_count": 61,
     "metadata": {},
     "output_type": "execute_result"
    }
   ],
   "source": [
    "import pandas as pd\n",
    "url = \"https://nvd.nist.gov/vuln/detail/CVE-2019-20203\"\n",
    "\n",
    "htmlpage = pd.read_html(url)\n",
    "\n",
    "print(f\"total no of tables {len(htmlpage)}\")\n",
    "print(htmlpage[2].iloc[:,:])\n",
    "tab = htmlpage[1].iloc[:,:]\n",
    "\n",
    "\n",
    "# for i,j in enumerate(htmlpage):\n",
    "#     print(i,j)\n",
    "#     print(j)\n",
    "tab"
   ]
  },
  {
   "cell_type": "code",
   "execution_count": 58,
   "id": "8957a2be",
   "metadata": {},
   "outputs": [
    {
     "name": "stdout",
     "output_type": "stream",
     "text": [
      "    CWE-ID                           CWE Name Source\n",
      "0  CWE-290  Authentication Bypass by Spoofing   NIST\n"
     ]
    }
   ],
   "source": [
    "print(htmlpage[2].iloc[:,:])"
   ]
  },
  {
   "cell_type": "code",
   "execution_count": 54,
   "id": "926b2ca0",
   "metadata": {},
   "outputs": [
    {
     "name": "stdout",
     "output_type": "stream",
     "text": [
      "Empty DataFrame\n",
      "Columns: []\n",
      "Index: []\n"
     ]
    }
   ],
   "source": [
    "df = htmlpage[2]\n",
    "columns = htmlpage[4].iloc[:,:]\n",
    "dict_list = []\n",
    "\n",
    "for idx in range(1,df.shape[0]-2):\n",
    "    print(df.iloc[idx, :])\n",
    "    _dict = {}\n",
    "    for icol, col in enumerate(columns):\n",
    "        _dict.update({col:df.iloc[idx, icol]})\n",
    "    dict_list.append(_dict)\n",
    "    \n",
    "new_df = pd.DataFrame(dict_list)\n",
    "print(new_df.head())"
   ]
  },
  {
   "cell_type": "code",
   "execution_count": 63,
   "id": "eff411a0",
   "metadata": {},
   "outputs": [
    {
     "data": {
      "text/html": [
       "<div>\n",
       "<style scoped>\n",
       "    .dataframe tbody tr th:only-of-type {\n",
       "        vertical-align: middle;\n",
       "    }\n",
       "\n",
       "    .dataframe tbody tr th {\n",
       "        vertical-align: top;\n",
       "    }\n",
       "\n",
       "    .dataframe thead th {\n",
       "        text-align: right;\n",
       "    }\n",
       "</style>\n",
       "<table border=\"1\" class=\"dataframe\">\n",
       "  <thead>\n",
       "    <tr style=\"text-align: right;\">\n",
       "      <th></th>\n",
       "      <th>Action</th>\n",
       "      <th>Type</th>\n",
       "      <th>Old Value</th>\n",
       "      <th>New Value</th>\n",
       "    </tr>\n",
       "  </thead>\n",
       "  <tbody>\n",
       "    <tr>\n",
       "      <th>0</th>\n",
       "      <td>Added</td>\n",
       "      <td>CPE Configuration</td>\n",
       "      <td>NaN</td>\n",
       "      <td>OR  *cpe:2.3:a:postieplugin:postie:*:*:*:*:*:w...</td>\n",
       "    </tr>\n",
       "    <tr>\n",
       "      <th>1</th>\n",
       "      <td>Added</td>\n",
       "      <td>CVSS V2</td>\n",
       "      <td>NaN</td>\n",
       "      <td>NIST (AV:N/AC:L/Au:N/C:N/I:P/A:N)</td>\n",
       "    </tr>\n",
       "    <tr>\n",
       "      <th>2</th>\n",
       "      <td>Added</td>\n",
       "      <td>CVSS V3.1</td>\n",
       "      <td>NaN</td>\n",
       "      <td>NIST AV:N/AC:L/PR:N/UI:N/S:U/C:N/I:L/A:N</td>\n",
       "    </tr>\n",
       "    <tr>\n",
       "      <th>3</th>\n",
       "      <td>Added</td>\n",
       "      <td>CWE</td>\n",
       "      <td>NaN</td>\n",
       "      <td>NIST CWE-863</td>\n",
       "    </tr>\n",
       "    <tr>\n",
       "      <th>4</th>\n",
       "      <td>Changed</td>\n",
       "      <td>Reference Type</td>\n",
       "      <td>https://github.com/V1n1v131r4/Exploiting-Posti...</td>\n",
       "      <td>https://github.com/V1n1v131r4/Exploiting-Posti...</td>\n",
       "    </tr>\n",
       "    <tr>\n",
       "      <th>5</th>\n",
       "      <td>Changed</td>\n",
       "      <td>Reference Type</td>\n",
       "      <td>https://postieplugin.com/ No Types Assigned</td>\n",
       "      <td>https://postieplugin.com/ Product</td>\n",
       "    </tr>\n",
       "    <tr>\n",
       "      <th>6</th>\n",
       "      <td>Changed</td>\n",
       "      <td>Reference Type</td>\n",
       "      <td>https://wordpress.org/plugins/postie/#develope...</td>\n",
       "      <td>https://wordpress.org/plugins/postie/#develope...</td>\n",
       "    </tr>\n",
       "    <tr>\n",
       "      <th>7</th>\n",
       "      <td>Changed</td>\n",
       "      <td>Reference Type</td>\n",
       "      <td>https://wpvulndb.com/vulnerabilities/10002 No ...</td>\n",
       "      <td>https://wpvulndb.com/vulnerabilities/10002 Thi...</td>\n",
       "    </tr>\n",
       "  </tbody>\n",
       "</table>\n",
       "</div>"
      ],
      "text/plain": [
       "    Action               Type  \\\n",
       "0    Added  CPE Configuration   \n",
       "1    Added            CVSS V2   \n",
       "2    Added          CVSS V3.1   \n",
       "3    Added                CWE   \n",
       "4  Changed     Reference Type   \n",
       "5  Changed     Reference Type   \n",
       "6  Changed     Reference Type   \n",
       "7  Changed     Reference Type   \n",
       "\n",
       "                                           Old Value  \\\n",
       "0                                                NaN   \n",
       "1                                                NaN   \n",
       "2                                                NaN   \n",
       "3                                                NaN   \n",
       "4  https://github.com/V1n1v131r4/Exploiting-Posti...   \n",
       "5        https://postieplugin.com/ No Types Assigned   \n",
       "6  https://wordpress.org/plugins/postie/#develope...   \n",
       "7  https://wpvulndb.com/vulnerabilities/10002 No ...   \n",
       "\n",
       "                                           New Value  \n",
       "0  OR  *cpe:2.3:a:postieplugin:postie:*:*:*:*:*:w...  \n",
       "1                  NIST (AV:N/AC:L/Au:N/C:N/I:P/A:N)  \n",
       "2           NIST AV:N/AC:L/PR:N/UI:N/S:U/C:N/I:L/A:N  \n",
       "3                                       NIST CWE-863  \n",
       "4  https://github.com/V1n1v131r4/Exploiting-Posti...  \n",
       "5                  https://postieplugin.com/ Product  \n",
       "6  https://wordpress.org/plugins/postie/#develope...  \n",
       "7  https://wpvulndb.com/vulnerabilities/10002 Thi...  "
      ]
     },
     "execution_count": 63,
     "metadata": {},
     "output_type": "execute_result"
    }
   ],
   "source": [
    "columns"
   ]
  },
  {
   "cell_type": "code",
   "execution_count": null,
   "id": "033a4134",
   "metadata": {},
   "outputs": [],
   "source": []
  }
 ],
 "metadata": {
  "kernelspec": {
   "display_name": "Python 3 (ipykernel)",
   "language": "python",
   "name": "python3"
  },
  "language_info": {
   "codemirror_mode": {
    "name": "ipython",
    "version": 3
   },
   "file_extension": ".py",
   "mimetype": "text/x-python",
   "name": "python",
   "nbconvert_exporter": "python",
   "pygments_lexer": "ipython3",
   "version": "3.9.7"
  }
 },
 "nbformat": 4,
 "nbformat_minor": 5
}
