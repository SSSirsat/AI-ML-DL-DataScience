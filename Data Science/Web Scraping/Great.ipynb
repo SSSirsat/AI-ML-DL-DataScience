{
 "cells": [
  {
   "cell_type": "code",
   "execution_count": 14,
   "id": "cded2869",
   "metadata": {},
   "outputs": [],
   "source": [
    "import os\n",
    "import pandas as pd\n",
    "import requests\n",
    "import json,urllib.request\n",
    "from urllib.request import urlopen\n",
    "\n",
    "\n",
    "\n",
    "url = \"https://nvd.nist.gov/vuln/detail/CVE-2019-20203\"\n",
    "data = pd.read_html(url)\n",
    "b=data[4]['New Value'][0].split()[1]\n",
    "\n",
    "list2=[]\n",
    "\n",
    "def ceps():\n",
    "    url1=\"https://services.nvd.nist.gov/rest/json/cpes/1.0/?cpeMatchString={}&addOns=cves&resultsPerPage=500\".format(b[1:])\n",
    "    data1=urlopen(url1).read()\n",
    "    output = json.loads(data1)\n",
    "    df=pd.DataFrame(output)\n",
    "    list1=df.loc['cpes']['result']\n",
    "\n",
    "    for i in range(len(list1)):\n",
    "        list2.append([list1[i]['cpe23Uri'],list1[i]['vulnerabilities']])\n",
    "        \n",
    "ceps()"
   ]
  },
  {
   "cell_type": "code",
   "execution_count": 16,
   "id": "f3b1c16d",
   "metadata": {},
   "outputs": [
    {
     "data": {
      "text/plain": [
       "263"
      ]
     },
     "execution_count": 16,
     "metadata": {},
     "output_type": "execute_result"
    }
   ],
   "source": [
    "len(list2)"
   ]
  },
  {
   "cell_type": "code",
   "execution_count": null,
   "id": "deb85b2f",
   "metadata": {},
   "outputs": [],
   "source": []
  }
 ],
 "metadata": {
  "kernelspec": {
   "display_name": "Python 3 (ipykernel)",
   "language": "python",
   "name": "python3"
  },
  "language_info": {
   "codemirror_mode": {
    "name": "ipython",
    "version": 3
   },
   "file_extension": ".py",
   "mimetype": "text/x-python",
   "name": "python",
   "nbconvert_exporter": "python",
   "pygments_lexer": "ipython3",
   "version": "3.9.7"
  }
 },
 "nbformat": 4,
 "nbformat_minor": 5
}
