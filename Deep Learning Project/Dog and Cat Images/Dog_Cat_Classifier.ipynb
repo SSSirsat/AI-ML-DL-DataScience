{
  "nbformat": 4,
  "nbformat_minor": 0,
  "metadata": {
    "colab": {
      "name": "Dog-Cat-Classifier.ipynb",
      "provenance": [],
      "collapsed_sections": []
    },
    "kernelspec": {
      "name": "python3",
      "display_name": "Python 3"
    },
    "language_info": {
      "name": "python"
    }
  },
  "cells": [
    {
      "cell_type": "code",
      "execution_count": null,
      "metadata": {
        "id": "JEhASoavfJNu"
      },
      "outputs": [],
      "source": [
        "# from google.colab import drive\n",
        "# drive.mount('/content/drive/')"
      ]
    },
    {
      "cell_type": "code",
      "source": [
        "from keras_preprocessing.image.utils import load_img\n",
        "import tensorflow as tf\n",
        "from tensorflow.keras import layers, models, datasets\n",
        "(training_images, training_labels),(test_images, test_labels) = datasets.cifar10.load_data()\n",
        "\n",
        "from keras.preprocessing.image import ImageDataGenerator, load_img\n",
        "train_imagedata = ImageDataGenerator( rescale=1./255,\n",
        "                                     shear_range = 0.2,\n",
        "                                     zoom_range = 0.2,\n",
        "                                     horizontal_flip = True)\n"
      ],
      "metadata": {
        "id": "-nDyXqSVwdWw"
      },
      "execution_count": null,
      "outputs": []
    },
    {
      "cell_type": "code",
      "source": [
        "dataset = \"/content/drive/MyDrive/Colab Notebooks/Data/dataset.zip\""
      ],
      "metadata": {
        "id": "QnM8GN_hfa9z"
      },
      "execution_count": null,
      "outputs": []
    },
    {
      "cell_type": "code",
      "source": [
        "from zipfile import ZipFile\n",
        "import glob\n",
        "import numpy as np  # creating numpy arrays\n",
        "from skimage.io import imread  # reading images\n",
        "from skimage.transform import resize  # resizing images\n",
        "\n",
        "with ZipFile(dataset,\"r\") as zp:\n",
        "  zp.extractall('/content/dataset')\n",
        "\n",
        "training_images = train_imagedata.flow_from_directory('/content/dataset/dataset/training_set',\n",
        "                                                      target_size=(64,64),\n",
        "                                                      batch_size=3,\n",
        "                                                      class_mode='binary')\n",
        "test_images = train_imagedata.flow_from_directory('/content/dataset/dataset/test_set',\n",
        "                                                      target_size=(64,64),\n",
        "                                                      batch_size=3,\n",
        "                                                      class_mode='binary')\n",
        "# 2. Obtain paths of images (.png used for example)\n",
        "# img_list = sorted(glob.glob('train/*.jpg'))\n",
        "\n",
        "# print(img_list[1])\n",
        "# print(training_images[1])"
      ],
      "metadata": {
        "colab": {
          "base_uri": "https://localhost:8080/"
        },
        "id": "8MBxzOhTuUnv",
        "outputId": "b3721454-5adf-47b6-862e-260dc5e11895"
      },
      "execution_count": null,
      "outputs": [
        {
          "output_type": "stream",
          "name": "stdout",
          "text": [
            "Found 8000 images belonging to 2 classes.\n",
            "Found 2000 images belonging to 2 classes.\n"
          ]
        }
      ]
    },
    {
      "cell_type": "code",
      "source": [
        "cnn = tf.keras.models.Sequential()\n",
        "#Build a cnn model\n",
        "cnn.add(tf.keras.layers.Conv2D(filters=32, kernel_size=3, activation='relu', input_shape=[64,64,3]))\n",
        "#step2: Polling\n",
        "cnn.add(tf.keras.layers.MaxPool2D(pool_size=3, strides=2))\n",
        "\n",
        "#Second convultional layer\n",
        "cnn.add(tf.keras.layers.Conv2D(filters=32, kernel_size=3, activation='relu', input_shape=[64,64,3]))\n",
        "cnn.add(tf.keras.layers.MaxPool2D(pool_size=3, strides=2))\n",
        "\n",
        "# Flattening\n",
        "cnn.add(tf.keras.layers.Flatten())\n",
        "# Step 4: Connection\n",
        "cnn.add(tf.keras.layers.Dense(units=1, activation='sigmoid'))\n",
        "\n",
        "cnn.add(tf.keras.layers.Dense(units=1, activation='relu'))\n",
        "\n",
        "cnn.compile(optimizer='adam', loss='binary_crossentropy', metrics=['accuracy'])"
      ],
      "metadata": {
        "id": "AodqU6E7vK0P"
      },
      "execution_count": null,
      "outputs": []
    },
    {
      "cell_type": "code",
      "source": [
        "cnn.fit(x = training_images, validation_data=test_images, epochs=2)"
      ],
      "metadata": {
        "colab": {
          "base_uri": "https://localhost:8080/"
        },
        "id": "iEaXly2-rdov",
        "outputId": "ee48b098-1022-4a0f-acf6-709cf1994433"
      },
      "execution_count": null,
      "outputs": [
        {
          "output_type": "stream",
          "name": "stdout",
          "text": [
            "Epoch 1/2\n",
            "2667/2667 [==============================] - 96s 36ms/step - loss: 0.6135 - accuracy: 0.6720 - val_loss: 0.5897 - val_accuracy: 0.6940\n",
            "Epoch 2/2\n",
            "2667/2667 [==============================] - 97s 36ms/step - loss: 0.5838 - accuracy: 0.6867 - val_loss: 0.6253 - val_accuracy: 0.6705\n"
          ]
        },
        {
          "output_type": "execute_result",
          "data": {
            "text/plain": [
              "<keras.callbacks.History at 0x7f1a5a1fd590>"
            ]
          },
          "metadata": {},
          "execution_count": 17
        }
      ]
    },
    {
      "cell_type": "code",
      "source": [
        "import numpy as np\n",
        "from keras_preprocessing import image\n",
        "\n",
        "test_image = image.load_img('/content/dataset/dataset/test_set/dogs/dog.4008.jpg', target_size=(64,64))\n",
        "tm = image.img_to_array(test_image)\n",
        "tm = np.expand_dims(tm, axis=0)\n",
        "output = cnn.predict(tm)\n",
        "\n",
        "if output[0][0] ==1:\n",
        "  print(\"Its a dog\")\n",
        "else:\n",
        "  print(\"Its a cat\")\n"
      ],
      "metadata": {
        "colab": {
          "base_uri": "https://localhost:8080/"
        },
        "id": "dib25jsStQaN",
        "outputId": "88104f82-c526-4d81-c4c0-1196be662842"
      },
      "execution_count": null,
      "outputs": [
        {
          "output_type": "stream",
          "name": "stdout",
          "text": [
            "Its a cat\n"
          ]
        }
      ]
    },
    {
      "cell_type": "code",
      "source": [
        ""
      ],
      "metadata": {
        "id": "UMfOuEcYwQO9"
      },
      "execution_count": null,
      "outputs": []
    }
  ]
}