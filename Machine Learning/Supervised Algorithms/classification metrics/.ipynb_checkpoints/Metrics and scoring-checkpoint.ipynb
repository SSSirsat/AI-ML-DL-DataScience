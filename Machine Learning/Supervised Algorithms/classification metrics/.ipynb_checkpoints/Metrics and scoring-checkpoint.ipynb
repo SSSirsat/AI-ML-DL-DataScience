{
 "cells": [
  {
   "cell_type": "markdown",
   "id": "15b25fae",
   "metadata": {},
   "source": [
    "There are 3 different APIs for evaluating the quality of a model’s predictions:\n",
    "\n",
    "Estimator score method: Estimators have a score method providing a default evaluation criterion for the problem they are designed to solve. This is not discussed on this page, but in each estimator’s documentation.\n",
    "\n",
    "Scoring parameter: Model-evaluation tools using cross-validation (such as model_selection.cross_val_score and model_selection.GridSearchCV) rely on an internal scoring strategy. This is discussed in the section The scoring parameter: defining model evaluation rules.\n",
    "\n",
    "Metric functions: The sklearn.metrics module implements functions assessing prediction error for specific purposes. These metrics are detailed in sections on Classification metrics, Multilabel ranking metrics, Regression metrics and Clustering metrics."
   ]
  },
  {
   "cell_type": "markdown",
   "id": "0311d4e9",
   "metadata": {},
   "source": [
    "# accuracy score"
   ]
  },
  {
   "cell_type": "code",
   "execution_count": 11,
   "id": "0f60dd90",
   "metadata": {},
   "outputs": [
    {
     "data": {
      "text/plain": [
       "0.75"
      ]
     },
     "execution_count": 11,
     "metadata": {},
     "output_type": "execute_result"
    }
   ],
   "source": [
    "import numpy as np\n",
    "from sklearn.metrics import accuracy_score\n",
    "y_pred=[0,2,1,3]\n",
    "y_true=[0,1,1,3]\n",
    "accuracy_score(y_true,y_pred)"
   ]
  },
  {
   "cell_type": "code",
   "execution_count": 12,
   "id": "d30501e1",
   "metadata": {},
   "outputs": [
    {
     "data": {
      "text/plain": [
       "3"
      ]
     },
     "execution_count": 12,
     "metadata": {},
     "output_type": "execute_result"
    }
   ],
   "source": [
    "accuracy_score(y_true,y_pred,normalize=False)"
   ]
  },
  {
   "cell_type": "markdown",
   "id": "89b16d90",
   "metadata": {},
   "source": [
    "# Confusion matrix"
   ]
  },
  {
   "cell_type": "code",
   "execution_count": 13,
   "id": "9b6ef35b",
   "metadata": {},
   "outputs": [
    {
     "data": {
      "text/plain": [
       "array([[2, 0, 0],\n",
       "       [0, 0, 1],\n",
       "       [1, 0, 2]], dtype=int64)"
      ]
     },
     "execution_count": 13,
     "metadata": {},
     "output_type": "execute_result"
    }
   ],
   "source": [
    "from sklearn.metrics import confusion_matrix, ConfusionMatrixDisplay\n",
    "y_true=[2,0,2,2,0,1]\n",
    "y_pred=[0,0,2,2,0,2]\n",
    "confusion_matrix(y_true,y_pred)"
   ]
  },
  {
   "cell_type": "markdown",
   "id": "00e15d82",
   "metadata": {},
   "source": [
    "# precision_score, recall_score, f1_score"
   ]
  },
  {
   "cell_type": "code",
   "execution_count": 43,
   "id": "f60fbd23",
   "metadata": {},
   "outputs": [
    {
     "data": {
      "text/plain": [
       "array([[2, 1],\n",
       "       [0, 1]], dtype=int64)"
      ]
     },
     "execution_count": 43,
     "metadata": {},
     "output_type": "execute_result"
    }
   ],
   "source": [
    "from sklearn import metrics\n",
    "y_true=[0,1,0,0]\n",
    "y_pred=[0,1,0,1]\n",
    "metrics.confusion_matrix(y_true,y_pred)\n",
    "# TN,FP\n",
    "# FN,TP"
   ]
  },
  {
   "cell_type": "code",
   "execution_count": 44,
   "id": "1e6ba459",
   "metadata": {},
   "outputs": [
    {
     "data": {
      "text/plain": [
       "0.5"
      ]
     },
     "execution_count": 44,
     "metadata": {},
     "output_type": "execute_result"
    }
   ],
   "source": [
    "metrics.precision_score(y_true,y_pred)\n",
    "# TP/(TP+FP)\n",
    "#1/(1+1)"
   ]
  },
  {
   "cell_type": "code",
   "execution_count": 45,
   "id": "653e643c",
   "metadata": {},
   "outputs": [
    {
     "data": {
      "text/plain": [
       "1.0"
      ]
     },
     "execution_count": 45,
     "metadata": {},
     "output_type": "execute_result"
    }
   ],
   "source": [
    "metrics.recall_score(y_true,y_pred)\n",
    "# TP/(TP+FN)\n",
    "#1/(1+0)"
   ]
  },
  {
   "cell_type": "code",
   "execution_count": 46,
   "id": "da73f8fb",
   "metadata": {},
   "outputs": [
    {
     "data": {
      "text/plain": [
       "0.6666666666666666"
      ]
     },
     "execution_count": 46,
     "metadata": {},
     "output_type": "execute_result"
    }
   ],
   "source": [
    "metrics.f1_score(y_true,y_pred)\n",
    "#2*((0.5*1)/(0.5+1))"
   ]
  },
  {
   "cell_type": "code",
   "execution_count": 48,
   "id": "7fa19847",
   "metadata": {},
   "outputs": [
    {
     "data": {
      "text/plain": [
       "0.5098039215686274"
      ]
     },
     "execution_count": 48,
     "metadata": {},
     "output_type": "execute_result"
    }
   ],
   "source": [
    "metrics.fbeta_score(y_true,y_pred,beta=0.2)\n",
    "#(1+b**2)(precision*recall)/(b**2*precision+recall)"
   ]
  },
  {
   "cell_type": "code",
   "execution_count": 49,
   "id": "bfc705ab",
   "metadata": {},
   "outputs": [
    {
     "data": {
      "text/plain": [
       "0.5555555555555556"
      ]
     },
     "execution_count": 49,
     "metadata": {},
     "output_type": "execute_result"
    }
   ],
   "source": [
    "metrics.fbeta_score(y_true,y_pred,beta=0.5)"
   ]
  },
  {
   "cell_type": "code",
   "execution_count": 51,
   "id": "a475dcac",
   "metadata": {},
   "outputs": [
    {
     "data": {
      "text/plain": [
       "0.8333333333333334"
      ]
     },
     "execution_count": 51,
     "metadata": {},
     "output_type": "execute_result"
    }
   ],
   "source": [
    "metrics.fbeta_score(y_true,y_pred,beta=2) "
   ]
  },
  {
   "cell_type": "code",
   "execution_count": 67,
   "id": "93816c0c",
   "metadata": {},
   "outputs": [
    {
     "data": {
      "text/plain": [
       "0.6666666666666666"
      ]
     },
     "execution_count": 67,
     "metadata": {},
     "output_type": "execute_result"
    }
   ],
   "source": [
    "y_true=[1,1,0,1,0,1]\n",
    "y_pred=[0,1,0,1,1,0]\n",
    "metrics.precision_score(y_true,y_pred)"
   ]
  },
  {
   "cell_type": "code",
   "execution_count": 68,
   "id": "14b5d2ea",
   "metadata": {},
   "outputs": [
    {
     "data": {
      "text/plain": [
       "0.5"
      ]
     },
     "execution_count": 68,
     "metadata": {},
     "output_type": "execute_result"
    }
   ],
   "source": [
    "metrics.recall_score(y_true,y_pred)"
   ]
  },
  {
   "cell_type": "code",
   "execution_count": 72,
   "id": "2647c265",
   "metadata": {},
   "outputs": [
    {
     "data": {
      "text/plain": [
       "0.375"
      ]
     },
     "execution_count": 72,
     "metadata": {},
     "output_type": "execute_result"
    }
   ],
   "source": [
    "1-metrics.fbeta_score(y_true,y_pred,beta=0.5)"
   ]
  },
  {
   "cell_type": "code",
   "execution_count": 73,
   "id": "4062efed",
   "metadata": {},
   "outputs": [
    {
     "data": {
      "text/plain": [
       "(array([0.25, 0.5 , 0.  , 0.  ]),\n",
       " array([0.5, 0.5, 0. , 0. ]),\n",
       " array([0.27777778, 0.5       , 0.        , 0.        ]),\n",
       " array([2, 4, 1, 1], dtype=int64))"
      ]
     },
     "execution_count": 73,
     "metadata": {},
     "output_type": "execute_result"
    }
   ],
   "source": [
    "y_true=[1,1,0,1,0,1,2,3]\n",
    "y_pred=[0,1,0,1,1,0,1,0]\n",
    "metrics.precision_recall_fscore_support(y_true,y_pred,beta=0.5)\n",
    "#1-precision,precision\n",
    "#1-recall,recall\n",
    "#1-fbeta_score,fbeta_score\n",
    "#(support is the occurrence of each class in y_true)"
   ]
  },
  {
   "cell_type": "code",
   "execution_count": 59,
   "id": "9879de00",
   "metadata": {},
   "outputs": [
    {
     "data": {
      "text/plain": [
       "(array([0.5, 0.5]),\n",
       " array([0.5, 0.5]),\n",
       " array([0.5, 0.5]),\n",
       " array([2, 2], dtype=int64))"
      ]
     },
     "execution_count": 59,
     "metadata": {},
     "output_type": "execute_result"
    }
   ],
   "source": [
    "y_true=[1,1,0,0]\n",
    "y_pred=[0,1,0,1]\n",
    "metrics.precision_recall_fscore_support(y_true,y_pred,beta=0.5)"
   ]
  },
  {
   "cell_type": "code",
   "execution_count": null,
   "id": "14569a81",
   "metadata": {},
   "outputs": [],
   "source": [
    "from sklearn.metrics import precision_recall_score\n",
    "precision,recall,threshold=precision_recall_score()"
   ]
  },
  {
   "cell_type": "code",
   "execution_count": null,
   "id": "83b37603",
   "metadata": {},
   "outputs": [],
   "source": []
  }
 ],
 "metadata": {
  "kernelspec": {
   "display_name": "Python 3",
   "language": "python",
   "name": "python3"
  },
  "language_info": {
   "codemirror_mode": {
    "name": "ipython",
    "version": 3
   },
   "file_extension": ".py",
   "mimetype": "text/x-python",
   "name": "python",
   "nbconvert_exporter": "python",
   "pygments_lexer": "ipython3",
   "version": "3.8.8"
  }
 },
 "nbformat": 4,
 "nbformat_minor": 5
}
