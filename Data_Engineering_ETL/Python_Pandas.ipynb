{
 "cells": [
  {
   "cell_type": "code",
   "execution_count": 1,
   "metadata": {},
   "outputs": [],
   "source": [
    "import pandas as pd\n",
    "import numpy as np\n",
    "import os\n",
    "import json\n",
    "import glob"
   ]
  },
  {
   "cell_type": "code",
   "execution_count": 2,
   "metadata": {},
   "outputs": [],
   "source": [
    "#get csv file list from a folder\n",
    "path = 'data/retail_db/orders'\n",
    "csv_files = glob.glob(path + \"/par*\")\n"
   ]
  },
  {
   "cell_type": "code",
   "execution_count": 3,
   "metadata": {},
   "outputs": [
    {
     "data": {
      "text/plain": [
       "['data/retail_db/orders\\\\part-00000']"
      ]
     },
     "execution_count": 3,
     "metadata": {},
     "output_type": "execute_result"
    }
   ],
   "source": [
    "# Read each csv file into DataFrame\n",
    "#this will crate list of dataframe\n",
    "\n",
    "# source_file_names = glob.glob(\"data/retail_db/*/part*\")\n",
    "source_file_names = csv_files\n",
    "source_file_names\n",
    "# orders_df = pd.read_csv(\"data/ratail_db/orders/part-00000\")"
   ]
  },
  {
   "cell_type": "code",
   "execution_count": 4,
   "metadata": {},
   "outputs": [],
   "source": [
    "import re"
   ]
  },
  {
   "cell_type": "code",
   "execution_count": 5,
   "metadata": {},
   "outputs": [
    {
     "name": "stdout",
     "output_type": "stream",
     "text": [
      "<class 'list'>\n",
      "data/retail_db/orders/part-00000\n"
     ]
    }
   ],
   "source": [
    "filew = []\n",
    "for file in source_file_names:\n",
    "    new = re.split('[/\\\\\\]', file)\n",
    "    print(type(new))\n",
    "    string = \"/\".join(new)\n",
    "    print(string)\n",
    "    filew.append(string)\n",
    "\n",
    "# print(filew)"
   ]
  },
  {
   "cell_type": "code",
   "execution_count": 6,
   "metadata": {},
   "outputs": [],
   "source": [
    "file = filew[0]\n",
    "df = pd.read_csv(file,names=['order_id', 'order_date', 'order_customer_id', 'order_status'])"
   ]
  },
  {
   "cell_type": "code",
   "execution_count": 7,
   "metadata": {},
   "outputs": [
    {
     "data": {
      "text/html": [
       "<div>\n",
       "<style scoped>\n",
       "    .dataframe tbody tr th:only-of-type {\n",
       "        vertical-align: middle;\n",
       "    }\n",
       "\n",
       "    .dataframe tbody tr th {\n",
       "        vertical-align: top;\n",
       "    }\n",
       "\n",
       "    .dataframe thead th {\n",
       "        text-align: right;\n",
       "    }\n",
       "</style>\n",
       "<table border=\"1\" class=\"dataframe\">\n",
       "  <thead>\n",
       "    <tr style=\"text-align: right;\">\n",
       "      <th></th>\n",
       "      <th>order_id</th>\n",
       "      <th>order_date</th>\n",
       "      <th>order_customer_id</th>\n",
       "      <th>order_status</th>\n",
       "    </tr>\n",
       "  </thead>\n",
       "  <tbody>\n",
       "    <tr>\n",
       "      <th>0</th>\n",
       "      <td>1</td>\n",
       "      <td>2013-07-25 00:00:00.0</td>\n",
       "      <td>11599</td>\n",
       "      <td>CLOSED</td>\n",
       "    </tr>\n",
       "    <tr>\n",
       "      <th>3</th>\n",
       "      <td>4</td>\n",
       "      <td>2013-07-25 00:00:00.0</td>\n",
       "      <td>8827</td>\n",
       "      <td>CLOSED</td>\n",
       "    </tr>\n",
       "    <tr>\n",
       "      <th>11</th>\n",
       "      <td>12</td>\n",
       "      <td>2013-07-25 00:00:00.0</td>\n",
       "      <td>1837</td>\n",
       "      <td>CLOSED</td>\n",
       "    </tr>\n",
       "    <tr>\n",
       "      <th>17</th>\n",
       "      <td>18</td>\n",
       "      <td>2013-07-25 00:00:00.0</td>\n",
       "      <td>1205</td>\n",
       "      <td>CLOSED</td>\n",
       "    </tr>\n",
       "    <tr>\n",
       "      <th>23</th>\n",
       "      <td>24</td>\n",
       "      <td>2013-07-25 00:00:00.0</td>\n",
       "      <td>11441</td>\n",
       "      <td>CLOSED</td>\n",
       "    </tr>\n",
       "    <tr>\n",
       "      <th>...</th>\n",
       "      <td>...</td>\n",
       "      <td>...</td>\n",
       "      <td>...</td>\n",
       "      <td>...</td>\n",
       "    </tr>\n",
       "    <tr>\n",
       "      <th>68827</th>\n",
       "      <td>68828</td>\n",
       "      <td>2014-04-20 00:00:00.0</td>\n",
       "      <td>5263</td>\n",
       "      <td>CLOSED</td>\n",
       "    </tr>\n",
       "    <tr>\n",
       "      <th>68839</th>\n",
       "      <td>68840</td>\n",
       "      <td>2014-05-11 00:00:00.0</td>\n",
       "      <td>4399</td>\n",
       "      <td>CLOSED</td>\n",
       "    </tr>\n",
       "    <tr>\n",
       "      <th>68847</th>\n",
       "      <td>68848</td>\n",
       "      <td>2014-05-22 00:00:00.0</td>\n",
       "      <td>6517</td>\n",
       "      <td>CLOSED</td>\n",
       "    </tr>\n",
       "    <tr>\n",
       "      <th>68851</th>\n",
       "      <td>68852</td>\n",
       "      <td>2014-05-29 00:00:00.0</td>\n",
       "      <td>4596</td>\n",
       "      <td>CLOSED</td>\n",
       "    </tr>\n",
       "    <tr>\n",
       "      <th>68862</th>\n",
       "      <td>68863</td>\n",
       "      <td>2014-06-16 00:00:00.0</td>\n",
       "      <td>3361</td>\n",
       "      <td>CLOSED</td>\n",
       "    </tr>\n",
       "  </tbody>\n",
       "</table>\n",
       "<p>7556 rows × 4 columns</p>\n",
       "</div>"
      ],
      "text/plain": [
       "       order_id             order_date  order_customer_id order_status\n",
       "0             1  2013-07-25 00:00:00.0              11599       CLOSED\n",
       "3             4  2013-07-25 00:00:00.0               8827       CLOSED\n",
       "11           12  2013-07-25 00:00:00.0               1837       CLOSED\n",
       "17           18  2013-07-25 00:00:00.0               1205       CLOSED\n",
       "23           24  2013-07-25 00:00:00.0              11441       CLOSED\n",
       "...         ...                    ...                ...          ...\n",
       "68827     68828  2014-04-20 00:00:00.0               5263       CLOSED\n",
       "68839     68840  2014-05-11 00:00:00.0               4399       CLOSED\n",
       "68847     68848  2014-05-22 00:00:00.0               6517       CLOSED\n",
       "68851     68852  2014-05-29 00:00:00.0               4596       CLOSED\n",
       "68862     68863  2014-06-16 00:00:00.0               3361       CLOSED\n",
       "\n",
       "[7556 rows x 4 columns]"
      ]
     },
     "execution_count": 7,
     "metadata": {},
     "output_type": "execute_result"
    }
   ],
   "source": [
    "df1 = df[df['order_status'] == 'CLOSED']\n",
    "df1"
   ]
  },
  {
   "cell_type": "code",
   "execution_count": 8,
   "metadata": {},
   "outputs": [],
   "source": [
    "# source_file = glob.glob(\"data/retail_db/*/part*\", recursive=True)\n",
    "# source_file"
   ]
  },
  {
   "cell_type": "code",
   "execution_count": 9,
   "metadata": {},
   "outputs": [],
   "source": [
    "# for file_name in source_file:\n",
    "#     df = pd.read_csv(file_name, header=None)\n",
    "#     print(f'Shape of {file_name} is {df.shape}')"
   ]
  },
  {
   "cell_type": "code",
   "execution_count": 10,
   "metadata": {},
   "outputs": [],
   "source": [
    "os.makedirs('data/retail_db_json_pd/orders', exist_ok=True)"
   ]
  },
  {
   "cell_type": "code",
   "execution_count": 12,
   "metadata": {},
   "outputs": [],
   "source": [
    "df.to_json('data/retail_db_json_pd/orders/part-00000', orient='records', lines=True)"
   ]
  },
  {
   "cell_type": "code",
   "execution_count": null,
   "metadata": {},
   "outputs": [],
   "source": []
  }
 ],
 "metadata": {
  "kernelspec": {
   "display_name": "Python 3",
   "language": "python",
   "name": "python3"
  },
  "language_info": {
   "codemirror_mode": {
    "name": "ipython",
    "version": 3
   },
   "file_extension": ".py",
   "mimetype": "text/x-python",
   "name": "python",
   "nbconvert_exporter": "python",
   "pygments_lexer": "ipython3",
   "version": "3.9.12"
  },
  "orig_nbformat": 4
 },
 "nbformat": 4,
 "nbformat_minor": 2
}
