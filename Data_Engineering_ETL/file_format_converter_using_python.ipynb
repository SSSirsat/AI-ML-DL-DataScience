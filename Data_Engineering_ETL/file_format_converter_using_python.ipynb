{
 "cells": [
  {
   "cell_type": "code",
   "execution_count": 1,
   "metadata": {},
   "outputs": [],
   "source": [
    "# tgt_base_dir = 'data/retail_db_json_pd/'\n",
    "# base_dir= 'data/'\n",
    "# for file in source_file_names:\n",
    "#     print(f'Prcessing {file}')\n",
    "#     file_path_list = re.split('[/\\\\\\]',file)\n",
    "#     ds_name = file_path_list[-2]\n",
    "#     file_name = file_path_list[-1]\n",
    "#     json_file_path = f'{tgt_base_dir}/{ds_name}/{file_name}'\n",
    "#     columns = get_column_names(schemas, ds_name)\n",
    "#     df = pd.read_csv(file, names=columns)\n",
    "#     os.makedirs(f'{tgt_base_dir}/{ds_name}', exist_ok=True)\n",
    "#     df.to_json(\n",
    "#         json_file_path,\n",
    "#         orient='records',\n",
    "#         lines=True\n",
    "#     )"
   ]
  },
  {
   "cell_type": "code",
   "execution_count": 1,
   "metadata": {},
   "outputs": [],
   "source": [
    "import pandas as pd\n",
    "import os\n",
    "import json\n",
    "import re\n",
    "import glob"
   ]
  },
  {
   "cell_type": "code",
   "execution_count": 4,
   "metadata": {},
   "outputs": [],
   "source": [
    "import matplotlib"
   ]
  },
  {
   "cell_type": "code",
   "execution_count": 3,
   "metadata": {},
   "outputs": [],
   "source": [
    "#This Function will helps to get columns name of respecetd dataset\n",
    "def get_column_names(schemas, ds_name, sorting_key='column_position'):\n",
    "    column_details = schemas[ds_name]\n",
    "    columns = sorted(column_details, key= lambda col: col[sorting_key])\n",
    "    return [col['column_name'] for col in columns]\n"
   ]
  },
  {
   "cell_type": "code",
   "execution_count": 4,
   "metadata": {},
   "outputs": [],
   "source": [
    "#This function will create dataframe from csv file\n",
    "def read_csv(file,schemas):\n",
    "    file_path_list = re.split('[/\\\\\\]', file)\n",
    "    ds_name = file_path_list[-2]\n",
    "    file_name = file_path_list[-1]\n",
    "    columns = get_column_names(schemas, ds_name)\n",
    "    df = pd.read_csv(file, names=columns)\n",
    "    return df"
   ]
  },
  {
   "cell_type": "code",
   "execution_count": 5,
   "metadata": {},
   "outputs": [],
   "source": [
    "# This fuction will wirte df to json \n",
    "def to_json(df,tgt_base_dir, ds_name, file_name):\n",
    "    json_file_path = f'{tgt_base_dir}/{ds_name}/{file_name}'\n",
    "    os.makedirs(f'{tgt_base_dir}/{ds_name}')\n",
    "    df.to_json(\n",
    "        json_file_path,\n",
    "        orient = 'records',\n",
    "        lines = True\n",
    "    )"
   ]
  },
  {
   "cell_type": "code",
   "execution_count": null,
   "metadata": {},
   "outputs": [],
   "source": []
  },
  {
   "cell_type": "code",
   "execution_count": 14,
   "metadata": {},
   "outputs": [],
   "source": [
    "# Concerting files of respected tables.\n",
    "# Its kind of driving function\n",
    "def file_converter(src_base_dir,tgt_base_dir,ds_name):\n",
    "    schemas = json.load(open(f'{src_base_dir}/schemas.json'))\n",
    "    files = glob.glob(f'{src_base_dir}/{ds_name}/part-*')\n",
    "    \n",
    "    for file in files:\n",
    "        df = read_csv(file, schemas)\n",
    "        file_name = re.split('[/\\\\\\]',file)[-1]\n",
    "        to_json(df,tgt_base_dir,ds_name,file_name)"
   ]
  },
  {
   "cell_type": "code",
   "execution_count": 18,
   "metadata": {},
   "outputs": [],
   "source": [
    "def process_files(ds_names=None):\n",
    "    src_base_dir = 'data/retail_db'\n",
    "    tgt_base_dir = 'data/retail_db_json'\n",
    "    schemas = json.load(open(f'{src_base_dir}/schemas.json'))\n",
    "    if not ds_names:\n",
    "        ds_names = schemas.keys()\n",
    "    for ds_name in ds_names:\n",
    "        print(f'Processing.........{ds_name}----->>>>>[Done]')\n",
    "        file_converter(src_base_dir,tgt_base_dir,ds_name)"
   ]
  },
  {
   "cell_type": "code",
   "execution_count": 20,
   "metadata": {},
   "outputs": [
    {
     "name": "stdout",
     "output_type": "stream",
     "text": [
      "Processing.........departments----->>>>>[Done]\n",
      "Processing.........categories----->>>>>[Done]\n",
      "Processing.........orders----->>>>>[Done]\n",
      "Processing.........products----->>>>>[Done]\n",
      "Processing.........customers----->>>>>[Done]\n",
      "Processing.........order_items----->>>>>[Done]\n"
     ]
    }
   ],
   "source": [
    "#colling process file function to convert file into the new type of files\n",
    "# process_files(['orders','departments']) # this will convert only orders and departments files\n",
    "process_files() # This will convert all folders files."
   ]
  },
  {
   "cell_type": "code",
   "execution_count": null,
   "metadata": {},
   "outputs": [],
   "source": []
  },
  {
   "cell_type": "code",
   "execution_count": null,
   "metadata": {},
   "outputs": [],
   "source": []
  },
  {
   "cell_type": "code",
   "execution_count": 13,
   "metadata": {},
   "outputs": [],
   "source": [
    "#assigning tables name from to convert file format\n",
    "ds_name = 'orders'\n",
    "# calling file_converter function to convert file.\n",
    "file_converter(ds_name)"
   ]
  },
  {
   "cell_type": "code",
   "execution_count": null,
   "metadata": {},
   "outputs": [],
   "source": []
  },
  {
   "cell_type": "code",
   "execution_count": null,
   "metadata": {},
   "outputs": [],
   "source": []
  },
  {
   "cell_type": "code",
   "execution_count": null,
   "metadata": {},
   "outputs": [],
   "source": []
  },
  {
   "cell_type": "code",
   "execution_count": null,
   "metadata": {},
   "outputs": [],
   "source": []
  },
  {
   "cell_type": "code",
   "execution_count": null,
   "metadata": {},
   "outputs": [],
   "source": []
  },
  {
   "cell_type": "code",
   "execution_count": null,
   "metadata": {},
   "outputs": [],
   "source": []
  },
  {
   "cell_type": "code",
   "execution_count": null,
   "metadata": {},
   "outputs": [],
   "source": []
  }
 ],
 "metadata": {
  "kernelspec": {
   "display_name": "py-data",
   "language": "python",
   "name": "python3"
  },
  "language_info": {
   "codemirror_mode": {
    "name": "ipython",
    "version": 3
   },
   "file_extension": ".py",
   "mimetype": "text/x-python",
   "name": "python",
   "nbconvert_exporter": "python",
   "pygments_lexer": "ipython3",
   "version": "3.9.12"
  },
  "orig_nbformat": 4
 },
 "nbformat": 4,
 "nbformat_minor": 2
}
