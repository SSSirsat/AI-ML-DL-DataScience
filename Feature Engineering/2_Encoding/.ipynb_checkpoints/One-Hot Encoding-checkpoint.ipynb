{
 "cells": [
  {
   "cell_type": "markdown",
   "id": "2a28f0c7",
   "metadata": {},
   "source": [
    "## One Hot Encoding\n",
    "\n",
    "One hot encoding, consists in encoding each categorical variable with different boolean variables (also called dummy variables) which take values 0 or 1, indicating if a category is present in an observation.\n",
    "\n",
    "For example, for the categorical variable \"Gender\", with labels 'female' and 'male', we can generate the boolean variable \"female\", which takes 1 if the person is 'female' or 0 otherwise, or we can generate the variable \"male\", which takes 1 if the person is 'male' and 0 otherwise."
   ]
  },
  {
   "cell_type": "code",
   "execution_count": null,
   "id": "00e11323",
   "metadata": {},
   "outputs": [],
   "source": [
    "import pandas as pd"
   ]
  },
  {
   "cell_type": "markdown",
   "id": "0c4b51e2",
   "metadata": {},
   "source": [
    "Limitations of pandas:"
   ]
  },
  {
   "cell_type": "code",
   "execution_count": null,
   "id": "a2749123",
   "metadata": {},
   "outputs": [],
   "source": [
    "df = pd.read_csv('Titanic.csv')"
   ]
  },
  {
   "cell_type": "code",
   "execution_count": null,
   "id": "095be217",
   "metadata": {},
   "outputs": [],
   "source": []
  },
  {
   "cell_type": "code",
   "execution_count": null,
   "id": "a65ed4d0",
   "metadata": {},
   "outputs": [],
   "source": []
  },
  {
   "cell_type": "code",
   "execution_count": null,
   "id": "7fcff209",
   "metadata": {},
   "outputs": [],
   "source": []
  },
  {
   "cell_type": "code",
   "execution_count": null,
   "id": "efcb1e2c",
   "metadata": {},
   "outputs": [],
   "source": []
  },
  {
   "cell_type": "code",
   "execution_count": null,
   "id": "f3da884d",
   "metadata": {},
   "outputs": [],
   "source": []
  },
  {
   "cell_type": "code",
   "execution_count": null,
   "id": "b6d099aa",
   "metadata": {},
   "outputs": [],
   "source": []
  },
  {
   "cell_type": "code",
   "execution_count": null,
   "id": "c2cc3c34",
   "metadata": {},
   "outputs": [],
   "source": []
  },
  {
   "cell_type": "markdown",
   "id": "3cc63c7e",
   "metadata": {},
   "source": [
    "## Label Encoder"
   ]
  },
  {
   "cell_type": "code",
   "execution_count": null,
   "id": "02ae6a27",
   "metadata": {},
   "outputs": [],
   "source": [
    "##Label Encoder\n",
    "from sklearn.preprocessing import LabelEncoder\n",
    "le = LabelEncoder()"
   ]
  },
  {
   "cell_type": "code",
   "execution_count": null,
   "id": "0cd33ffb",
   "metadata": {},
   "outputs": [],
   "source": [
    "dfle = le.fit_transform(df.Embarked)"
   ]
  },
  {
   "cell_type": "code",
   "execution_count": null,
   "id": "45d936d1",
   "metadata": {},
   "outputs": [],
   "source": [
    "dfle"
   ]
  },
  {
   "cell_type": "code",
   "execution_count": null,
   "id": "5d5b2394",
   "metadata": {},
   "outputs": [],
   "source": []
  },
  {
   "cell_type": "markdown",
   "id": "dda52e60",
   "metadata": {},
   "source": [
    "## One hot encoding with Scikit-learn\n",
    "\n",
    "### Advantages\n",
    "\n",
    "- quick\n",
    "- Creates the same number of features in train and test set\n",
    "\n",
    "### Limitations\n",
    "\n",
    "- it returns a numpy array instead of a pandas dataframe\n",
    "- it does not return the variable names, therefore inconvenient for variable exploration"
   ]
  },
  {
   "cell_type": "code",
   "execution_count": null,
   "id": "56fcd4ec",
   "metadata": {},
   "outputs": [],
   "source": []
  },
  {
   "cell_type": "code",
   "execution_count": null,
   "id": "7a111dcb",
   "metadata": {},
   "outputs": [],
   "source": [
    "# for one hot encoding with sklearn\n",
    "from sklearn.preprocessing import OneHotEncoder"
   ]
  },
  {
   "cell_type": "code",
   "execution_count": null,
   "id": "660bf5ad",
   "metadata": {},
   "outputs": [],
   "source": [
    "# we create and train the encoder\n",
    "\n",
    "encoder = OneHotEncoder(categories='auto',\n",
    "                       drop='first', # to return k-1, use drop=false to return k dummies\n",
    "                       sparse=False,\n",
    "                       handle_unknown='error') # helps deal with rare labels"
   ]
  },
  {
   "cell_type": "code",
   "execution_count": null,
   "id": "eca6e0e6",
   "metadata": {},
   "outputs": [],
   "source": [
    "encoder.fit(xtrain.fillna('Missing'))"
   ]
  },
  {
   "cell_type": "code",
   "execution_count": null,
   "id": "f3e4dddb",
   "metadata": {},
   "outputs": [],
   "source": [
    "encoder.categories_"
   ]
  },
  {
   "cell_type": "code",
   "execution_count": null,
   "id": "26edb8c2",
   "metadata": {},
   "outputs": [],
   "source": [
    "#transform the xtrain set in to dataframe\n",
    "\n",
    "df1 = encoder.transform(xtrain.fillna(\"Missing\"))"
   ]
  },
  {
   "cell_type": "code",
   "execution_count": null,
   "id": "af557f57",
   "metadata": {},
   "outputs": [],
   "source": [
    "df1 = pd.DataFrame(df1)"
   ]
  },
  {
   "cell_type": "code",
   "execution_count": null,
   "id": "7588f653",
   "metadata": {},
   "outputs": [],
   "source": [
    "df1.head(10)"
   ]
  },
  {
   "cell_type": "markdown",
   "id": "238941c5",
   "metadata": {},
   "source": [
    "\n",
    "## One hot encoding with Feature-Engine\n",
    "\n",
    "### Advantages\n",
    "- quick\n",
    "- returns dataframe\n",
    "- returns feature names\n",
    "- allows to select features to encode\n",
    "\n",
    "### Limitations\n",
    "- Not sure yet."
   ]
  },
  {
   "cell_type": "code",
   "execution_count": null,
   "id": "9e66f20e",
   "metadata": {},
   "outputs": [],
   "source": [
    "#!pip install feature_engine\n",
    "#conda install -c conda-forge feature_engine "
   ]
  },
  {
   "cell_type": "code",
   "execution_count": null,
   "id": "d5699830",
   "metadata": {},
   "outputs": [],
   "source": [
    "# for one hot encoding with feature-engine\n",
    "from feature_engine.encoding import OneHotEncoder as fe_OneHotEncoder"
   ]
  },
  {
   "cell_type": "code",
   "execution_count": null,
   "id": "4d8027cb",
   "metadata": {},
   "outputs": [],
   "source": [
    "ohe_enc = fe_OneHotEncoder(\n",
    "    top_categories=None,\n",
    "    variables=['Sex', 'Embarked'],  # we can select which variables to encode\n",
    "    drop_last=False)  # to return k-1, false to return k\n",
    "\n",
    "\n",
    "ohe_enc.fit(xtrain.fillna('Missing'))"
   ]
  },
  {
   "cell_type": "code",
   "execution_count": null,
   "id": "1b9149b8",
   "metadata": {},
   "outputs": [],
   "source": [
    "ohe_enc.variables_"
   ]
  },
  {
   "cell_type": "code",
   "execution_count": null,
   "id": "33a04b42",
   "metadata": {},
   "outputs": [],
   "source": [
    "tmp = ohe_enc.transform(xtrain.fillna('Missing'))\n",
    "\n",
    "tmp.head()"
   ]
  },
  {
   "cell_type": "code",
   "execution_count": null,
   "id": "47417703",
   "metadata": {},
   "outputs": [],
   "source": []
  }
 ],
 "metadata": {
  "kernelspec": {
   "display_name": "Python 3 (ipykernel)",
   "language": "python",
   "name": "python3"
  },
  "language_info": {
   "codemirror_mode": {
    "name": "ipython",
    "version": 3
   },
   "file_extension": ".py",
   "mimetype": "text/x-python",
   "name": "python",
   "nbconvert_exporter": "python",
   "pygments_lexer": "ipython3",
   "version": "3.9.7"
  }
 },
 "nbformat": 4,
 "nbformat_minor": 5
}
