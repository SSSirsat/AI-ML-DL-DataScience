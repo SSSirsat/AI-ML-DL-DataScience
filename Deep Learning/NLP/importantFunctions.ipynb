{
 "cells": [
  {
   "cell_type": "markdown",
   "id": "77c5026d",
   "metadata": {},
   "source": [
    "#### A Function to tokenize and returns the tokenized string"
   ]
  },
  {
   "cell_type": "code",
   "execution_count": 41,
   "id": "6eb3ddf6",
   "metadata": {},
   "outputs": [
    {
     "name": "stdout",
     "output_type": "stream",
     "text": [
      "Natural language processing (NLP) is a subfield of linguistics, computer science, and artificial intelligence concerned with the interactions between computers and human language, in particular how to program computers to process and analyze large amounts of natural language data. The goal is a computer capable of \"understanding\" the contents of documents, including the contextual nuances of the language within them. The technology can then accurately extract information and insights contained in the documents as well as categorize and organize the documents themselves.\n"
     ]
    }
   ],
   "source": [
    "input_string=input()"
   ]
  },
  {
   "cell_type": "code",
   "execution_count": 42,
   "id": "b326219f",
   "metadata": {},
   "outputs": [],
   "source": [
    "import nltk\n",
    "def tokenize(string):\n",
    "    tokens=nltk.tokenize.word_tokenize(string)\n",
    "    return \" \".join(tokens)"
   ]
  },
  {
   "cell_type": "code",
   "execution_count": 43,
   "id": "11f5171b",
   "metadata": {},
   "outputs": [
    {
     "data": {
      "text/plain": [
       "{'Natural': 1,\n",
       " 'language': 4,\n",
       " 'processing': 1,\n",
       " '(': 1,\n",
       " 'NLP': 1,\n",
       " ')': 1,\n",
       " 'is': 2,\n",
       " 'a': 2,\n",
       " 'subfield': 1,\n",
       " 'of': 5,\n",
       " 'linguistics': 1,\n",
       " ',': 4,\n",
       " 'computer': 2,\n",
       " 'science': 1,\n",
       " 'and': 5,\n",
       " 'artificial': 1,\n",
       " 'intelligence': 1,\n",
       " 'concerned': 1,\n",
       " 'with': 1,\n",
       " 'the': 6,\n",
       " 'interactions': 1,\n",
       " 'between': 1,\n",
       " 'computers': 2,\n",
       " 'human': 1,\n",
       " 'in': 2,\n",
       " 'particular': 1,\n",
       " 'how': 1,\n",
       " 'to': 2,\n",
       " 'program': 1,\n",
       " 'process': 1,\n",
       " 'analyze': 1,\n",
       " 'large': 1,\n",
       " 'amounts': 1,\n",
       " 'natural': 1,\n",
       " 'data': 1,\n",
       " '.': 3,\n",
       " 'The': 2,\n",
       " 'goal': 1,\n",
       " 'capable': 1,\n",
       " '``': 1,\n",
       " 'understanding': 1,\n",
       " \"''\": 1,\n",
       " 'contents': 1,\n",
       " 'documents': 3,\n",
       " 'including': 1,\n",
       " 'contextual': 1,\n",
       " 'nuances': 1,\n",
       " 'within': 1,\n",
       " 'them': 1,\n",
       " 'technology': 1,\n",
       " 'can': 1,\n",
       " 'then': 1,\n",
       " 'accurately': 1,\n",
       " 'extract': 1,\n",
       " 'information': 1,\n",
       " 'insights': 1,\n",
       " 'contained': 1,\n",
       " 'as': 2,\n",
       " 'well': 1,\n",
       " 'categorize': 1,\n",
       " 'organize': 1,\n",
       " 'themselves': 1}"
      ]
     },
     "execution_count": 43,
     "metadata": {},
     "output_type": "execute_result"
    }
   ],
   "source": [
    "string_tokens=tokenize(input_string).split(\" \")\n",
    "from collections import Counter\n",
    "dict_string_tokens=dict(Counter(string_tokens))\n",
    "dict_string_tokens"
   ]
  },
  {
   "cell_type": "code",
   "execution_count": 44,
   "id": "e09fcb88",
   "metadata": {},
   "outputs": [
    {
     "name": "stdout",
     "output_type": "stream",
     "text": [
      "Natural\n",
      "language\n",
      "processing\n",
      "(\n",
      "NLP\n",
      ")\n",
      "is\n",
      "a\n",
      "subfield\n",
      "of\n",
      "linguistics\n",
      ",\n",
      "computer\n",
      "science\n",
      "and\n",
      "artificial\n",
      "intelligence\n",
      "concerned\n",
      "with\n",
      "the\n",
      "interactions\n",
      "between\n",
      "computers\n",
      "human\n",
      "in\n",
      "particular\n",
      "how\n",
      "to\n",
      "program\n",
      "process\n",
      "analyze\n",
      "large\n",
      "amounts\n",
      "natural\n",
      "data\n",
      ".\n",
      "The\n",
      "goal\n",
      "capable\n",
      "``\n",
      "understanding\n",
      "''\n",
      "contents\n",
      "documents\n",
      "including\n",
      "contextual\n",
      "nuances\n",
      "within\n",
      "them\n",
      "technology\n",
      "can\n",
      "then\n",
      "accurately\n",
      "extract\n",
      "information\n",
      "insights\n",
      "contained\n",
      "as\n",
      "well\n",
      "categorize\n",
      "organize\n",
      "themselves\n"
     ]
    }
   ],
   "source": [
    "a=dict_string_tokens.items()\n",
    "for i in a:\n",
    "    print(i[0])"
   ]
  },
  {
   "cell_type": "code",
   "execution_count": 45,
   "id": "3b53c44f",
   "metadata": {},
   "outputs": [
    {
     "name": "stdout",
     "output_type": "stream",
     "text": [
      "the 6\n",
      "of 5\n",
      "and 5\n",
      "language 4\n",
      ", 4\n"
     ]
    }
   ],
   "source": [
    "for key,value in sorted(dict_string_tokens.items(),key=lambda v: v[1],reverse=True)[:5]:\n",
    "    print(\"%s %s\" %(key,value))"
   ]
  },
  {
   "cell_type": "code",
   "execution_count": 46,
   "id": "b3c4b13e",
   "metadata": {},
   "outputs": [
    {
     "data": {
      "text/plain": [
       "[30, 20, 10]"
      ]
     },
     "execution_count": 46,
     "metadata": {},
     "output_type": "execute_result"
    }
   ],
   "source": [
    "b=[10,20,30]\n",
    "sorted(b,reverse=True)"
   ]
  },
  {
   "cell_type": "code",
   "execution_count": 52,
   "id": "07390ef8",
   "metadata": {},
   "outputs": [],
   "source": [
    "from nltk.corpus import stopwords\n",
    "from string import punctuation"
   ]
  },
  {
   "cell_type": "code",
   "execution_count": 49,
   "id": "ff503e0c",
   "metadata": {},
   "outputs": [],
   "source": [
    "listOfStopWords=stopwords.words('English')"
   ]
  },
  {
   "cell_type": "code",
   "execution_count": 50,
   "id": "21338add",
   "metadata": {},
   "outputs": [
    {
     "data": {
      "text/plain": [
       "179"
      ]
     },
     "execution_count": 50,
     "metadata": {},
     "output_type": "execute_result"
    }
   ],
   "source": [
    "len(listOfStopWords)"
   ]
  },
  {
   "cell_type": "code",
   "execution_count": 51,
   "id": "4c6981fd",
   "metadata": {},
   "outputs": [
    {
     "data": {
      "text/plain": [
       "576"
      ]
     },
     "execution_count": 51,
     "metadata": {},
     "output_type": "execute_result"
    }
   ],
   "source": [
    "len(input_string)"
   ]
  },
  {
   "cell_type": "code",
   "execution_count": 70,
   "id": "a77c58a6",
   "metadata": {},
   "outputs": [],
   "source": [
    "def RemoveStopWords(string):\n",
    "    for each in punctuation:\n",
    "        string=string.replace(each, \"\")\n",
    "    \n",
    "    listOfStopWords=stopwords.words('English')\n",
    "    remove_stopwords=[]\n",
    "    words=string.split(\" \")\n",
    "    \n",
    "    for each in words:\n",
    "        if each  not in listOfStopWords:\n",
    "            remove_stopwords.append(each)\n",
    "    return \" \".join(remove_stopwords)"
   ]
  },
  {
   "cell_type": "code",
   "execution_count": 71,
   "id": "1f3f118e",
   "metadata": {},
   "outputs": [
    {
     "data": {
      "text/plain": [
       "'Natural language processing NLP subfield linguistics computer science artificial intelligence concerned interactions computers human language particular program computers process analyze large amounts natural language data The goal computer capable understanding contents documents including contextual nuances language within The technology accurately extract information insights contained documents well categorize organize documents'"
      ]
     },
     "execution_count": 71,
     "metadata": {},
     "output_type": "execute_result"
    }
   ],
   "source": [
    "RemoveStopWords(input_string)"
   ]
  },
  {
   "cell_type": "code",
   "execution_count": 72,
   "id": "cf9fdc76",
   "metadata": {},
   "outputs": [],
   "source": [
    "listOfStopWords=stopwords.words('English')\n",
    "tokens=nltk.tokenize.word_tokenize(input_string)\n",
    "stopwords_in_string=[]\n",
    "for each in tokens:\n",
    "    if each.lower() in listOfStopWords:\n",
    "        stopwords_in_string.append(each)"
   ]
  },
  {
   "cell_type": "code",
   "execution_count": 86,
   "id": "cac24efe",
   "metadata": {},
   "outputs": [],
   "source": [
    "#stopwords_in_string\n",
    "#map(function, sequence)\n",
    "#lambda args:expression\n",
    "countOfStopWords=list(map(lambda x :input_string.count(x), stopwords_in_string))"
   ]
  },
  {
   "cell_type": "code",
   "execution_count": 78,
   "id": "f7928810",
   "metadata": {},
   "outputs": [
    {
     "data": {
      "text/plain": [
       "576"
      ]
     },
     "execution_count": 78,
     "metadata": {},
     "output_type": "execute_result"
    }
   ],
   "source": [
    "len(input_string)"
   ]
  },
  {
   "cell_type": "code",
   "execution_count": 83,
   "id": "9718d591",
   "metadata": {},
   "outputs": [
    {
     "data": {
      "text/plain": [
       "'a'"
      ]
     },
     "execution_count": 83,
     "metadata": {},
     "output_type": "execute_result"
    }
   ],
   "source": [
    "stopwords_in_string[1]"
   ]
  },
  {
   "cell_type": "code",
   "execution_count": 84,
   "id": "50498e19",
   "metadata": {},
   "outputs": [
    {
     "data": {
      "text/plain": [
       "48"
      ]
     },
     "execution_count": 84,
     "metadata": {},
     "output_type": "execute_result"
    }
   ],
   "source": [
    "input_string.count('a')"
   ]
  },
  {
   "cell_type": "code",
   "execution_count": 85,
   "id": "4aaa6f66",
   "metadata": {},
   "outputs": [],
   "source": [
    "import matplotlib.pyplot as plt"
   ]
  },
  {
   "cell_type": "code",
   "execution_count": 92,
   "id": "de9d38f8",
   "metadata": {},
   "outputs": [
    {
     "data": {
      "image/png": "[encoded data removed]",
      "text/plain": [
       "<Figure size 432x288 with 1 Axes>"
      ]
     },
     "metadata": {
      "needs_background": "light"
     },
     "output_type": "display_data"
    }
   ],
   "source": [
    "plt.bar(dict_string_tokens.keys(),dict_string_tokens.values())\n",
    "plt.show()"
   ]
  },
  {
   "cell_type": "code",
   "execution_count": 97,
   "id": "9991230d",
   "metadata": {},
   "outputs": [
    {
     "data": {
      "image/png": "[encoded data removed]",
      "text/plain": [
       "<Figure size 432x288 with 1 Axes>"
      ]
     },
     "metadata": {
      "needs_background": "light"
     },
     "output_type": "display_data"
    }
   ],
   "source": [
    "plt.bar(stopwords_in_string,countOfStopWords)\n",
    "plt.xticks(range(len(stopwords_in_string)),stopwords_in_string)\n",
    "plt.show()\n",
    "# dict_string_tokens\n",
    "# countOfStopWords"
   ]
  },
  {
   "cell_type": "code",
   "execution_count": null,
   "id": "25ee4002",
   "metadata": {},
   "outputs": [],
   "source": []
  }
 ],
 "metadata": {
  "kernelspec": {
   "display_name": "Python 3 (ipykernel)",
   "language": "python",
   "name": "python3"
  },
  "language_info": {
   "codemirror_mode": {
    "name": "ipython",
    "version": 3
   },
   "file_extension": ".py",
   "mimetype": "text/x-python",
   "name": "python",
   "nbconvert_exporter": "python",
   "pygments_lexer": "ipython3",
   "version": "3.7.11"
  }
 },
 "nbformat": 4,
 "nbformat_minor": 5
}
