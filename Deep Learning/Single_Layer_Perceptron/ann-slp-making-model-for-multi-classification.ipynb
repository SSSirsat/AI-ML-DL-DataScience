{
 "cells": [
  {
   "cell_type": "markdown",
   "metadata": {},
   "source": [
    "# What is Perceptron? And How does it Work?"
   ]
  },
  {
   "cell_type": "markdown",
   "metadata": {},
   "source": [
    "# What is the significance of Cost/Loss Function?"
   ]
  },
  {
   "cell_type": "markdown",
   "metadata": {},
   "source": [
    "# What is Gradient Descent?"
   ]
  },
  {
   "cell_type": "markdown",
   "metadata": {
    "_cell_guid": "b7d89953-4523-4203-abd5-ec7463fc5f8d",
    "_uuid": "5890caa2e4318631cb1cf9bc270a4b32b538a758"
   },
   "source": [
    "# 1. Intro\n"
   ]
  },
  {
   "cell_type": "markdown",
   "metadata": {
    "_cell_guid": "b1076dfc-b9ad-4769-8c92-a6c4dae69d19",
    "_uuid": "8f2839f25d086af736a60e9eeb907d3b93b6e0e5"
   },
   "source": [
    "---\n",
    "\n",
    "# 2. What is ANN & SLP?\n",
    "### 2-1) ANN(Artificial Neural Network)\n",
    "* The Artificial Neural Network consists of an input layer, a hidden layer, and an output layer.\n",
    "\n",
    "![Imgur](https://elogeel.files.wordpress.com/2010/05/050510_1627_multilayerp1.png)\n",
    "\n",
    "\n",
    "\n",
    "### 2-2) SLP(Single Layer Perceptron)\n",
    "\n",
    "* If ANN model has no hidden layer, it is called single layer perceptron. \n",
    "* In contrast, MLP(Multiple Layer Perceptron) model is ANN which has multiple hidden layers (more than 1) \n",
    "\n",
    "\n",
    "![Imgur](https://www.analyticsvidhya.com/wp-content/uploads/2016/07/SLP.png)\n",
    "\n",
    "\n",
    "\n",
    "### 2-3) Basic equation of ANN-SLP\n",
    "* **Output = Weight * Input + Bias**\n",
    "* For this equation, we already have output, input layers. But don't have weight value and bias value.\n",
    "* Weight : a value that can give different weights depending on features and output \n",
    "    => [len(features), len(output)]\n",
    "* bias : a value that can give different weights depending on features\n",
    "    => [len(output)]\n",
    "\n",
    "\n",
    "\n",
    "\n",
    "### 2-4) One-Hot Encoding\n",
    "\n",
    "* This **ZOO DATASET** result is consisted of 7 types.\n",
    "\n",
    "*(1: mammal, 2: bird, 3: reptile, 4: fish, 5: amphibian, 6: insect / arachnid, 7: invertebrate)*\n",
    "\n",
    "* If the prediction results are more than 2 factors, It is more comforable using one-hot encoding.\n",
    "* For example, in official test, we write our answer in OMR card, cuz is much more easier for computer to read answers.\n",
    "\n",
    "![Imgur](https://chrisalbon.com/images/machine_learning_flashcards/One-Hot_Encoding_print.png)\n",
    "\n",
    "\n",
    "---\n",
    "\n",
    "# 3. Import Libraries"
   ]
  },
  {
   "cell_type": "code",
   "execution_count": 57,
   "metadata": {},
   "outputs": [],
   "source": [
    "#!pip install tensorflow"
   ]
  },
  {
   "cell_type": "code",
   "execution_count": 4,
   "metadata": {
    "_cell_guid": "79c7e3d0-c299-4dcb-8224-4455121ee9b0",
    "_uuid": "d629ff2d2480ee46fbb7e2d37f6b5fab8052498a"
   },
   "outputs": [],
   "source": [
    "import tensorflow as tf\n",
    "import pandas as pd\n",
    "from sklearn.model_selection import train_test_split\n",
    "import matplotlib.pyplot as plt\n",
    "import seaborn as sns\n",
    "\n",
    "# Supress unnecessary warnings so that presentation looks clean\n",
    "import warnings\n",
    "warnings.filterwarnings(\"ignore\")"
   ]
  },
  {
   "cell_type": "markdown",
   "metadata": {
    "_cell_guid": "4c58c4bd-e4e6-4296-b591-8db398c88c97",
    "_uuid": "8c6f0724ecf9b8f4020c55267eb69debc4f9ebcb"
   },
   "source": [
    "---\n",
    "\n",
    "# 4. Explore Dataset\n",
    "## 4-1) Import dataset"
   ]
  },
  {
   "cell_type": "code",
   "execution_count": 9,
   "metadata": {
    "_cell_guid": "df6856fe-2650-4959-8cdb-28a874b589e0",
    "_uuid": "8be204852d063e7429834ea2ccfcaab19aa35a00",
    "scrolled": true
   },
   "outputs": [
    {
     "data": {
      "text/html": [
       "<div>\n",
       "<style scoped>\n",
       "    .dataframe tbody tr th:only-of-type {\n",
       "        vertical-align: middle;\n",
       "    }\n",
       "\n",
       "    .dataframe tbody tr th {\n",
       "        vertical-align: top;\n",
       "    }\n",
       "\n",
       "    .dataframe thead th {\n",
       "        text-align: right;\n",
       "    }\n",
       "</style>\n",
       "<table border=\"1\" class=\"dataframe\">\n",
       "  <thead>\n",
       "    <tr style=\"text-align: right;\">\n",
       "      <th></th>\n",
       "      <th>animal_name</th>\n",
       "      <th>hair</th>\n",
       "      <th>feathers</th>\n",
       "      <th>eggs</th>\n",
       "      <th>milk</th>\n",
       "      <th>airborne</th>\n",
       "      <th>aquatic</th>\n",
       "      <th>predator</th>\n",
       "      <th>toothed</th>\n",
       "      <th>backbone</th>\n",
       "      <th>breathes</th>\n",
       "      <th>venomous</th>\n",
       "      <th>fins</th>\n",
       "      <th>legs</th>\n",
       "      <th>tail</th>\n",
       "      <th>domestic</th>\n",
       "      <th>catsize</th>\n",
       "      <th>class_type</th>\n",
       "    </tr>\n",
       "  </thead>\n",
       "  <tbody>\n",
       "    <tr>\n",
       "      <th>0</th>\n",
       "      <td>aardvark</td>\n",
       "      <td>1</td>\n",
       "      <td>0</td>\n",
       "      <td>0</td>\n",
       "      <td>1</td>\n",
       "      <td>0</td>\n",
       "      <td>0</td>\n",
       "      <td>1</td>\n",
       "      <td>1</td>\n",
       "      <td>1</td>\n",
       "      <td>1</td>\n",
       "      <td>0</td>\n",
       "      <td>0</td>\n",
       "      <td>4</td>\n",
       "      <td>0</td>\n",
       "      <td>0</td>\n",
       "      <td>1</td>\n",
       "      <td>1</td>\n",
       "    </tr>\n",
       "    <tr>\n",
       "      <th>1</th>\n",
       "      <td>antelope</td>\n",
       "      <td>1</td>\n",
       "      <td>0</td>\n",
       "      <td>0</td>\n",
       "      <td>1</td>\n",
       "      <td>0</td>\n",
       "      <td>0</td>\n",
       "      <td>0</td>\n",
       "      <td>1</td>\n",
       "      <td>1</td>\n",
       "      <td>1</td>\n",
       "      <td>0</td>\n",
       "      <td>0</td>\n",
       "      <td>4</td>\n",
       "      <td>1</td>\n",
       "      <td>0</td>\n",
       "      <td>1</td>\n",
       "      <td>1</td>\n",
       "    </tr>\n",
       "    <tr>\n",
       "      <th>2</th>\n",
       "      <td>bass</td>\n",
       "      <td>0</td>\n",
       "      <td>0</td>\n",
       "      <td>1</td>\n",
       "      <td>0</td>\n",
       "      <td>0</td>\n",
       "      <td>1</td>\n",
       "      <td>1</td>\n",
       "      <td>1</td>\n",
       "      <td>1</td>\n",
       "      <td>0</td>\n",
       "      <td>0</td>\n",
       "      <td>1</td>\n",
       "      <td>0</td>\n",
       "      <td>1</td>\n",
       "      <td>0</td>\n",
       "      <td>0</td>\n",
       "      <td>4</td>\n",
       "    </tr>\n",
       "    <tr>\n",
       "      <th>3</th>\n",
       "      <td>bear</td>\n",
       "      <td>1</td>\n",
       "      <td>0</td>\n",
       "      <td>0</td>\n",
       "      <td>1</td>\n",
       "      <td>0</td>\n",
       "      <td>0</td>\n",
       "      <td>1</td>\n",
       "      <td>1</td>\n",
       "      <td>1</td>\n",
       "      <td>1</td>\n",
       "      <td>0</td>\n",
       "      <td>0</td>\n",
       "      <td>4</td>\n",
       "      <td>0</td>\n",
       "      <td>0</td>\n",
       "      <td>1</td>\n",
       "      <td>1</td>\n",
       "    </tr>\n",
       "    <tr>\n",
       "      <th>4</th>\n",
       "      <td>boar</td>\n",
       "      <td>1</td>\n",
       "      <td>0</td>\n",
       "      <td>0</td>\n",
       "      <td>1</td>\n",
       "      <td>0</td>\n",
       "      <td>0</td>\n",
       "      <td>1</td>\n",
       "      <td>1</td>\n",
       "      <td>1</td>\n",
       "      <td>1</td>\n",
       "      <td>0</td>\n",
       "      <td>0</td>\n",
       "      <td>4</td>\n",
       "      <td>1</td>\n",
       "      <td>0</td>\n",
       "      <td>1</td>\n",
       "      <td>1</td>\n",
       "    </tr>\n",
       "  </tbody>\n",
       "</table>\n",
       "</div>"
      ],
      "text/plain": [
       "  animal_name  hair  feathers  eggs  milk  airborne  aquatic  predator  \\\n",
       "0    aardvark     1         0     0     1         0        0         1   \n",
       "1    antelope     1         0     0     1         0        0         0   \n",
       "2        bass     0         0     1     0         0        1         1   \n",
       "3        bear     1         0     0     1         0        0         1   \n",
       "4        boar     1         0     0     1         0        0         1   \n",
       "\n",
       "   toothed  backbone  breathes  venomous  fins  legs  tail  domestic  catsize  \\\n",
       "0        1         1         1         0     0     4     0         0        1   \n",
       "1        1         1         1         0     0     4     1         0        1   \n",
       "2        1         1         0         0     1     0     1         0        0   \n",
       "3        1         1         1         0     0     4     0         0        1   \n",
       "4        1         1         1         0     0     4     1         0        1   \n",
       "\n",
       "   class_type  \n",
       "0           1  \n",
       "1           1  \n",
       "2           4  \n",
       "3           1  \n",
       "4           1  "
      ]
     },
     "execution_count": 9,
     "metadata": {},
     "output_type": "execute_result"
    }
   ],
   "source": [
    "zoo = pd.read_csv(\"zoo.csv\")\n",
    "zoo.head()"
   ]
  },
  {
   "cell_type": "code",
   "execution_count": 10,
   "metadata": {
    "_cell_guid": "d1fd61cb-8f87-4a79-8f58-a0a04b06357d",
    "_uuid": "62304bc240df5d20e691149d7376bd3e8e4bdbc0",
    "scrolled": false
   },
   "outputs": [
    {
     "name": "stdout",
     "output_type": "stream",
     "text": [
      "This ZOO dataset is consised of 101 rows.\n"
     ]
    }
   ],
   "source": [
    "print(\"This ZOO dataset is consised of\",len(zoo),\"rows.\")"
   ]
  },
  {
   "cell_type": "markdown",
   "metadata": {
    "_cell_guid": "11a5df86-0bd0-4e34-9a30-c398e8f47cbc",
    "_uuid": "4c3f2691a9dd3c353db9f729066c3fb15de0382e"
   },
   "source": [
    "## 4-2) Summary the animal_type"
   ]
  },
  {
   "cell_type": "code",
   "execution_count": 11,
   "metadata": {
    "_cell_guid": "50c38649-fcb1-4c5a-afff-5adfc1b3112b",
    "_uuid": "2436ae6415c538804c2c18b8e57ea65aaed7f572"
   },
   "outputs": [
    {
     "data": {
      "text/plain": [
       "<AxesSubplot:xlabel='class_type', ylabel='count'>"
      ]
     },
     "execution_count": 11,
     "metadata": {},
     "output_type": "execute_result"
    },
    {
     "data": {
      "image/png": "[encoded data removed]",
      "text/plain": [
       "<Figure size 432x288 with 1 Axes>"
      ]
     },
     "metadata": {
      "needs_background": "light"
     },
     "output_type": "display_data"
    }
   ],
   "source": [
    "sns.countplot(zoo['class_type'],label=\"Count\")"
   ]
  },
  {
   "cell_type": "markdown",
   "metadata": {
    "_cell_guid": "242e7e48-5741-4fcf-8235-ec1c0fb1d0dc",
    "_uuid": "0914435bbbbc737f9bd7d8210ff1713c332a2eb3"
   },
   "source": [
    "## 4-3) Correlation Plot of 16 features"
   ]
  },
  {
   "cell_type": "code",
   "execution_count": 15,
   "metadata": {
    "_cell_guid": "868e3ba7-8509-44ab-83de-03f53fe803a8",
    "_uuid": "6c679ef841b47302661cf189075374dafc5d6633"
   },
   "outputs": [
    {
     "data": {
      "text/plain": [
       "Text(0.5, 1.0, 'Correlation of ZOO Features')"
      ]
     },
     "execution_count": 15,
     "metadata": {},
     "output_type": "execute_result"
    },
    {
     "data": {
      "image/png": "[encoded data removed]",
      "text/plain": [
       "<Figure size 1008x1008 with 2 Axes>"
      ]
     },
     "metadata": {
      "needs_background": "light"
     },
     "output_type": "display_data"
    }
   ],
   "source": [
    "corr = zoo.iloc[:,1:-1].corr()\n",
    "colormap = sns.diverging_palette(220, 10, as_cmap = True)\n",
    "plt.figure(figsize=(14,14))\n",
    "sns.heatmap(corr, cbar = True,  square = True, annot=True, fmt= '.2f',annot_kws={'size': 12},\n",
    "            cmap = colormap, linewidths=0.1, linecolor='white')\n",
    "plt.title('Correlation of ZOO Features', y=1.0, size=15) "
   ]
  },
  {
   "cell_type": "markdown",
   "metadata": {
    "_cell_guid": "2e89498e-98ba-4ebb-852f-73309d2a9ca2",
    "_uuid": "6e346074170d1db2a5c3d5eee71c41c21572b1c6"
   },
   "source": [
    "---\n",
    "\n",
    "# 5. Prepare Data for machine learning\n",
    "## 5-1) Seperate Feature data(17) / Label data(1)\n",
    "Eliminate **animal_name** columns for predictions.\n",
    "Seperate by **x_data, y_data**\n",
    "* x_data : columns(features to predict class_type) for training. (eliminate class_type)\n",
    "* y_data : columns for comparing with predictions results. (need original class_type)"
   ]
  },
  {
   "cell_type": "code",
   "execution_count": 16,
   "metadata": {
    "_cell_guid": "3d166412-5535-4985-af49-512ce348b898",
    "_uuid": "91b8a2c133974128c644de0f16bc875c32107e33",
    "scrolled": false
   },
   "outputs": [
    {
     "data": {
      "text/html": [
       "<div>\n",
       "<style scoped>\n",
       "    .dataframe tbody tr th:only-of-type {\n",
       "        vertical-align: middle;\n",
       "    }\n",
       "\n",
       "    .dataframe tbody tr th {\n",
       "        vertical-align: top;\n",
       "    }\n",
       "\n",
       "    .dataframe thead th {\n",
       "        text-align: right;\n",
       "    }\n",
       "</style>\n",
       "<table border=\"1\" class=\"dataframe\">\n",
       "  <thead>\n",
       "    <tr style=\"text-align: right;\">\n",
       "      <th></th>\n",
       "      <th>animal_name</th>\n",
       "      <th>hair</th>\n",
       "      <th>feathers</th>\n",
       "      <th>eggs</th>\n",
       "      <th>milk</th>\n",
       "      <th>airborne</th>\n",
       "      <th>aquatic</th>\n",
       "      <th>predator</th>\n",
       "      <th>toothed</th>\n",
       "      <th>backbone</th>\n",
       "      <th>breathes</th>\n",
       "      <th>venomous</th>\n",
       "      <th>fins</th>\n",
       "      <th>legs</th>\n",
       "      <th>tail</th>\n",
       "      <th>domestic</th>\n",
       "      <th>catsize</th>\n",
       "    </tr>\n",
       "  </thead>\n",
       "  <tbody>\n",
       "    <tr>\n",
       "      <th>0</th>\n",
       "      <td>aardvark</td>\n",
       "      <td>1</td>\n",
       "      <td>0</td>\n",
       "      <td>0</td>\n",
       "      <td>1</td>\n",
       "      <td>0</td>\n",
       "      <td>0</td>\n",
       "      <td>1</td>\n",
       "      <td>1</td>\n",
       "      <td>1</td>\n",
       "      <td>1</td>\n",
       "      <td>0</td>\n",
       "      <td>0</td>\n",
       "      <td>4</td>\n",
       "      <td>0</td>\n",
       "      <td>0</td>\n",
       "      <td>1</td>\n",
       "    </tr>\n",
       "    <tr>\n",
       "      <th>1</th>\n",
       "      <td>antelope</td>\n",
       "      <td>1</td>\n",
       "      <td>0</td>\n",
       "      <td>0</td>\n",
       "      <td>1</td>\n",
       "      <td>0</td>\n",
       "      <td>0</td>\n",
       "      <td>0</td>\n",
       "      <td>1</td>\n",
       "      <td>1</td>\n",
       "      <td>1</td>\n",
       "      <td>0</td>\n",
       "      <td>0</td>\n",
       "      <td>4</td>\n",
       "      <td>1</td>\n",
       "      <td>0</td>\n",
       "      <td>1</td>\n",
       "    </tr>\n",
       "    <tr>\n",
       "      <th>2</th>\n",
       "      <td>bass</td>\n",
       "      <td>0</td>\n",
       "      <td>0</td>\n",
       "      <td>1</td>\n",
       "      <td>0</td>\n",
       "      <td>0</td>\n",
       "      <td>1</td>\n",
       "      <td>1</td>\n",
       "      <td>1</td>\n",
       "      <td>1</td>\n",
       "      <td>0</td>\n",
       "      <td>0</td>\n",
       "      <td>1</td>\n",
       "      <td>0</td>\n",
       "      <td>1</td>\n",
       "      <td>0</td>\n",
       "      <td>0</td>\n",
       "    </tr>\n",
       "    <tr>\n",
       "      <th>3</th>\n",
       "      <td>bear</td>\n",
       "      <td>1</td>\n",
       "      <td>0</td>\n",
       "      <td>0</td>\n",
       "      <td>1</td>\n",
       "      <td>0</td>\n",
       "      <td>0</td>\n",
       "      <td>1</td>\n",
       "      <td>1</td>\n",
       "      <td>1</td>\n",
       "      <td>1</td>\n",
       "      <td>0</td>\n",
       "      <td>0</td>\n",
       "      <td>4</td>\n",
       "      <td>0</td>\n",
       "      <td>0</td>\n",
       "      <td>1</td>\n",
       "    </tr>\n",
       "    <tr>\n",
       "      <th>4</th>\n",
       "      <td>boar</td>\n",
       "      <td>1</td>\n",
       "      <td>0</td>\n",
       "      <td>0</td>\n",
       "      <td>1</td>\n",
       "      <td>0</td>\n",
       "      <td>0</td>\n",
       "      <td>1</td>\n",
       "      <td>1</td>\n",
       "      <td>1</td>\n",
       "      <td>1</td>\n",
       "      <td>0</td>\n",
       "      <td>0</td>\n",
       "      <td>4</td>\n",
       "      <td>1</td>\n",
       "      <td>0</td>\n",
       "      <td>1</td>\n",
       "    </tr>\n",
       "  </tbody>\n",
       "</table>\n",
       "</div>"
      ],
      "text/plain": [
       "  animal_name  hair  feathers  eggs  milk  airborne  aquatic  predator  \\\n",
       "0    aardvark     1         0     0     1         0        0         1   \n",
       "1    antelope     1         0     0     1         0        0         0   \n",
       "2        bass     0         0     1     0         0        1         1   \n",
       "3        bear     1         0     0     1         0        0         1   \n",
       "4        boar     1         0     0     1         0        0         1   \n",
       "\n",
       "   toothed  backbone  breathes  venomous  fins  legs  tail  domestic  catsize  \n",
       "0        1         1         1         0     0     4     0         0        1  \n",
       "1        1         1         1         0     0     4     1         0        1  \n",
       "2        1         1         0         0     1     0     1         0        0  \n",
       "3        1         1         1         0     0     4     0         0        1  \n",
       "4        1         1         1         0     0     4     1         0        1  "
      ]
     },
     "execution_count": 16,
     "metadata": {},
     "output_type": "execute_result"
    }
   ],
   "source": [
    "x_data = zoo.iloc[:,:-1]\n",
    "x_data.head()"
   ]
  },
  {
   "cell_type": "code",
   "execution_count": 17,
   "metadata": {
    "_cell_guid": "246201b6-35cb-4bf4-80ae-f092a22ce56f",
    "_uuid": "0e68c9947eb2e3a2f75181364e6b55c6d78e6ea6",
    "scrolled": true
   },
   "outputs": [
    {
     "data": {
      "text/html": [
       "<div>\n",
       "<style scoped>\n",
       "    .dataframe tbody tr th:only-of-type {\n",
       "        vertical-align: middle;\n",
       "    }\n",
       "\n",
       "    .dataframe tbody tr th {\n",
       "        vertical-align: top;\n",
       "    }\n",
       "\n",
       "    .dataframe thead th {\n",
       "        text-align: right;\n",
       "    }\n",
       "</style>\n",
       "<table border=\"1\" class=\"dataframe\">\n",
       "  <thead>\n",
       "    <tr style=\"text-align: right;\">\n",
       "      <th></th>\n",
       "      <th>class_type</th>\n",
       "    </tr>\n",
       "  </thead>\n",
       "  <tbody>\n",
       "    <tr>\n",
       "      <th>0</th>\n",
       "      <td>1</td>\n",
       "    </tr>\n",
       "    <tr>\n",
       "      <th>1</th>\n",
       "      <td>1</td>\n",
       "    </tr>\n",
       "    <tr>\n",
       "      <th>2</th>\n",
       "      <td>4</td>\n",
       "    </tr>\n",
       "    <tr>\n",
       "      <th>3</th>\n",
       "      <td>1</td>\n",
       "    </tr>\n",
       "    <tr>\n",
       "      <th>4</th>\n",
       "      <td>1</td>\n",
       "    </tr>\n",
       "  </tbody>\n",
       "</table>\n",
       "</div>"
      ],
      "text/plain": [
       "   class_type\n",
       "0           1\n",
       "1           1\n",
       "2           4\n",
       "3           1\n",
       "4           1"
      ]
     },
     "execution_count": 17,
     "metadata": {},
     "output_type": "execute_result"
    }
   ],
   "source": [
    "y_data = zoo.iloc[:,-1:]\n",
    "y_data.head()"
   ]
  },
  {
   "cell_type": "code",
   "execution_count": 18,
   "metadata": {
    "_cell_guid": "c2bb3b55-621e-4d6e-9a44-1e9bfb8d317e",
    "_uuid": "ead29cfafc422eda8359d8df31894bcbea156c42"
   },
   "outputs": [
    {
     "name": "stdout",
     "output_type": "stream",
     "text": [
      "Feature Data : (101, 17)\n",
      "Label Data : (101, 1)\n"
     ]
    }
   ],
   "source": [
    "print(\"Feature Data :\", x_data.shape)\n",
    "print(\"Label Data :\", y_data.shape)"
   ]
  },
  {
   "cell_type": "markdown",
   "metadata": {
    "_cell_guid": "4be08677-81bc-498f-867a-72806ecfc831",
    "_uuid": "2078958e894e62351a9fb71643b1f636cd7c4d58"
   },
   "source": [
    "## 5-2) Divide \"ZOO data\" into Train(70%) / Test data(30%)\n",
    "Divide the data into two(train/test) to see the predictive power of the model.\n",
    "* test_size : proportion of test data (0.3 means split into 30% test data, and the rest(70%) is train data)\n",
    "* random_state : you can handle the fix dataset everytime, you can write any number you like :-)\n",
    "* stratify : split data randomly and y variable(7 class_type) proportionately"
   ]
  },
  {
   "cell_type": "code",
   "execution_count": 19,
   "metadata": {
    "_cell_guid": "3d4ac950-c301-4ea4-9887-5d4d954e8dca",
    "_uuid": "80121c4276302e4d90eb2344f73a8ab84490494d"
   },
   "outputs": [
    {
     "name": "stdout",
     "output_type": "stream",
     "text": [
      "Training Data has (70, 17)\n",
      "Testing Data has (31, 17)\n"
     ]
    }
   ],
   "source": [
    "train_x, test_x, train_y, test_y = train_test_split(x_data, y_data, test_size=0.3, random_state=42, stratify=y_data)\n",
    "print(\"Training Data has\",train_x.shape)\n",
    "print(\"Testing Data has\",test_x.shape)"
   ]
  },
  {
   "cell_type": "markdown",
   "metadata": {
    "_cell_guid": "b56f0d25-664b-484f-a3cd-42d4c989b32c",
    "_uuid": "0c074b5fdaa0b24d7ddc120fdf31a08ee3d7b889"
   },
   "source": [
    "## 5-3) Drop animal_name column\n",
    "* Save the **animal_name** column for later combination(results).\n",
    "* Drop the **animal_name** column in train, test datasets, because it's unnecessary for model learning predictions."
   ]
  },
  {
   "cell_type": "code",
   "execution_count": 20,
   "metadata": {
    "_cell_guid": "b838ebfe-fee6-46f0-beb3-e4aa19ccf793",
    "_uuid": "843c81180b5664d924829d656c59456c687f5947",
    "scrolled": false
   },
   "outputs": [
    {
     "name": "stdout",
     "output_type": "stream",
     "text": [
      "Training Data has (70, 16)\n",
      "Testing Data has (31, 16)\n"
     ]
    }
   ],
   "source": [
    "train_name = train_x['animal_name']\n",
    "test_name = test_x['animal_name']\n",
    "\n",
    "train_x = train_x.iloc[:,1:]\n",
    "test_x = test_x.iloc[:,1:]\n",
    "\n",
    "print(\"Training Data has\",train_x.shape)\n",
    "print(\"Testing Data has\",test_x.shape)"
   ]
  },
  {
   "cell_type": "markdown",
   "metadata": {
    "_cell_guid": "7f34405a-df37-49d0-8182-60ad9206825e",
    "_uuid": "fda5e9297f6e392024a22223ed39e672efdd0e13"
   },
   "source": [
    "---\n",
    "\n",
    "# 6. Make ANN-SLP Model\n",
    "## 6-1) Make \"Placeholder\" for dynamic variable allocation\n",
    "Placeholder is one of the function in tensorflow.\n",
    "It is a space to put and change values while the program is running.\n",
    "* for X, a place must have 16 columns, since zoo data has 16 features.\n",
    "* for Y, a place must have 1 columns, since the results has 1 outcome.\n",
    "* If you see the row \"None\", it means it has no size limits. (You can write -1 instead of \"None\")"
   ]
  },
  {
   "cell_type": "code",
   "execution_count": 21,
   "metadata": {},
   "outputs": [
    {
     "name": "stdout",
     "output_type": "stream",
     "text": [
      "WARNING:tensorflow:From C:\\Users\\AnilKumar\\Anaconda3\\envs\\test1\\lib\\site-packages\\tensorflow\\python\\compat\\v2_compat.py:107: disable_resource_variables (from tensorflow.python.ops.variable_scope) is deprecated and will be removed in a future version.\n",
      "Instructions for updating:\n",
      "non-resource variables are not supported in the long term\n"
     ]
    }
   ],
   "source": [
    "import tensorflow.compat.v1 as tf\n",
    "tf.disable_v2_behavior()"
   ]
  },
  {
   "cell_type": "code",
   "execution_count": 22,
   "metadata": {
    "_cell_guid": "92ec7800-eee7-413b-95ce-3269f076579b",
    "_uuid": "d9dfbc9fda80afe2b59b6f58491d56aab88817f3"
   },
   "outputs": [],
   "source": [
    "X = tf.placeholder(tf.float32, [None,16]) \n",
    "Y = tf.placeholder(tf.int32, [None, 1])"
   ]
  },
  {
   "cell_type": "markdown",
   "metadata": {
    "_cell_guid": "df6922f6-0345-4572-a876-11d4c87e9575",
    "_uuid": "3221cf0adc0605739a1d7387ccfbf4c713cabdde"
   },
   "source": [
    "## 6-2) One-Hot Encoding variable\n",
    "As I explained above, for one-hot encoding, we have to change **y_data form** in to **y -one hot encoding** form. \n",
    "\n",
    "You can simply use **tensorflow one_hot** function.\n",
    "* y_data(type results) has 7 factors, so we will make place with 7 columns. **-1** means **no size limits** of rows."
   ]
  },
  {
   "cell_type": "code",
   "execution_count": 36,
   "metadata": {
    "_cell_guid": "2afe17f0-b9fe-4348-8181-888e0b69c465",
    "_uuid": "86b9da63271a8a932a2fb72bb7f1317b054367df"
   },
   "outputs": [],
   "source": [
    "Y_one_hot = tf.one_hot(Y, 7)  # one hot encoding"
   ]
  },
  {
   "cell_type": "code",
   "execution_count": 37,
   "metadata": {},
   "outputs": [
    {
     "data": {
      "text/plain": [
       "<tf.Tensor 'one_hot_3:0' shape=(?, 1, 7) dtype=float32>"
      ]
     },
     "execution_count": 37,
     "metadata": {},
     "output_type": "execute_result"
    }
   ],
   "source": [
    "Y_one_hot"
   ]
  },
  {
   "cell_type": "code",
   "execution_count": 38,
   "metadata": {},
   "outputs": [
    {
     "data": {
      "text/plain": [
       "TensorShape([Dimension(None), Dimension(1), Dimension(7)])"
      ]
     },
     "execution_count": 38,
     "metadata": {},
     "output_type": "execute_result"
    }
   ],
   "source": [
    "Y_one_hot.shape"
   ]
  },
  {
   "cell_type": "code",
   "execution_count": 39,
   "metadata": {},
   "outputs": [],
   "source": [
    "Y_one_hot = tf.reshape(Y_one_hot, [-1, 7])"
   ]
  },
  {
   "cell_type": "code",
   "execution_count": 41,
   "metadata": {},
   "outputs": [
    {
     "data": {
      "text/plain": [
       "TensorShape([Dimension(None), Dimension(7)])"
      ]
     },
     "execution_count": 41,
     "metadata": {},
     "output_type": "execute_result"
    }
   ],
   "source": [
    "Y_one_hot.shape"
   ]
  },
  {
   "cell_type": "code",
   "execution_count": 40,
   "metadata": {},
   "outputs": [],
   "source": [
    "Y_one_hot_c= tf.reshape(Y_one_hot, [7, -1])"
   ]
  },
  {
   "cell_type": "code",
   "execution_count": 43,
   "metadata": {},
   "outputs": [
    {
     "data": {
      "text/plain": [
       "TensorShape([Dimension(7), Dimension(None)])"
      ]
     },
     "execution_count": 43,
     "metadata": {},
     "output_type": "execute_result"
    }
   ],
   "source": [
    "Y_one_hot_c.shape"
   ]
  },
  {
   "cell_type": "markdown",
   "metadata": {
    "_cell_guid": "74e601d0-f118-4127-ae17-1911d1e98a40",
    "_kg_hide-input": true,
    "_uuid": "75681a55d00cea35a9edfc383fdf2da28612951f"
   },
   "source": [
    "## 6-3) Make Weight, Bias value with randomly\n",
    "* W(weight) : why **[16,7]**?  16 for 16 features, 7 for 7 types of Outcome(results).\n",
    "* b(bias) : why **[7]**?  outcome has 7 layers(types)."
   ]
  },
  {
   "cell_type": "code",
   "execution_count": 45,
   "metadata": {
    "_cell_guid": "dc4abb81-05fa-4abd-9731-d6d4c92ea0b5",
    "_uuid": "d4ba184c28620dbf3b43e2b9aa9e41542711578c"
   },
   "outputs": [],
   "source": [
    "W = tf.Variable(tf.random_normal([16, 7],seed=0), name='weight') #[features,output classes]\n",
    "b = tf.Variable(tf.random_normal([7],seed=0), name='bias') # output classes"
   ]
  },
  {
   "cell_type": "markdown",
   "metadata": {
    "_cell_guid": "b9db2b91-b998-46f0-9af0-c89fa2b33353",
    "_uuid": "9ac6cff32e98b8f455acbe0630bda837dbc71eb7"
   },
   "source": [
    "## 6-4) Make Output Results\n",
    " * **Output = Weight * Input + Bias**\n",
    " * tf.matmul() : for array multiply\n",
    " * tf.nn.softmax_cross_entropy_with_logits(): for gradient_descent with softmax results(hypothesis)."
   ]
  },
  {
   "cell_type": "code",
   "execution_count": 46,
   "metadata": {},
   "outputs": [
    {
     "data": {
      "text/plain": [
       "TensorShape([Dimension(None), Dimension(16)])"
      ]
     },
     "execution_count": 46,
     "metadata": {},
     "output_type": "execute_result"
    }
   ],
   "source": [
    "X.shape"
   ]
  },
  {
   "cell_type": "code",
   "execution_count": 47,
   "metadata": {},
   "outputs": [
    {
     "data": {
      "text/plain": [
       "TensorShape([Dimension(16), Dimension(7)])"
      ]
     },
     "execution_count": 47,
     "metadata": {},
     "output_type": "execute_result"
    }
   ],
   "source": [
    "W.shape"
   ]
  },
  {
   "cell_type": "code",
   "execution_count": 48,
   "metadata": {
    "_cell_guid": "eb715ef9-fc7a-4cd8-a3f7-cc9ffae18493",
    "_uuid": "7f6c24cb3ae2f44c79e16b30a711e195e73b3d9d"
   },
   "outputs": [],
   "source": [
    "logits = tf.matmul(X, W) + b\n",
    "# hypothesis = tf.nn.softmax(logits)"
   ]
  },
  {
   "cell_type": "markdown",
   "metadata": {
    "_cell_guid": "a8751f07-e125-430d-b4a3-09da937066ea",
    "_uuid": "036ce5cec6ebd87ba4d8490d92171b3e5c9c91d4"
   },
   "source": [
    "## 6-5) Cross Entropy\n",
    "Before this, you have to know **How Linear Regression Works**\n",
    "* Linear Regression: Draw a random line to find the **mean square root error** and find the slope and intercept to minimize this value (reduce the error to the minimum)\n",
    "* Since Logits is also linear equation, you have to find minimum cost!\n",
    "\n",
    "![Imgur](https://machinelearningblogcom.files.wordpress.com/2018/01/bildschirmfoto-2018-01-24-um-14-32-02.png?w=1400)\n",
    "\n",
    "For example, logits(we get above) is **red line**, and the real dataset is **blue dot**. \n",
    "1. For finding cost, you have to substract all blue dot value with red line. \n",
    "2. Next, You add all distance you find and get average. \n",
    "3. For good prediction, this average distance of red line & blue dot must be minimum value. "
   ]
  },
  {
   "cell_type": "code",
   "execution_count": 49,
   "metadata": {
    "_cell_guid": "de15738a-c4e7-4392-a74a-a725e68cae62",
    "_uuid": "a9ed5f5b1d7001f3701bcdc44be9ab0d3dd0f597"
   },
   "outputs": [],
   "source": [
    "hypothesis = tf.nn.softmax(logits)\n",
    "\n",
    "cost_i = tf.nn.softmax_cross_entropy_with_logits_v2(logits=logits,labels=Y_one_hot)\n",
    "cost = tf.reduce_mean(cost_i)\n",
    "# cost = tf.reduce_mean(-tf.reduce_sum(Y * tf.log(hypothesis)))"
   ]
  },
  {
   "cell_type": "markdown",
   "metadata": {
    "_cell_guid": "ba365c0b-0089-4257-9fa8-24ff18599b79",
    "_uuid": "b06fd4df3568358f92ee52c7cb9fefde586efc4e"
   },
   "source": [
    "## 6-6) Gradient Descent Optimizer\n",
    "\n",
    "![Imgur](http://sebastianraschka.com/images/blog/2015/singlelayer_neural_networks_files/perceptron_gradient_descent_1.png)\n",
    "\n",
    "* GradientDescentOptimizer: It makes the best result with the least error\n",
    "* There are lots of optimizer methods provided in tensorflow. (GradientDescent, Adam, RMSProp, etc.)\n",
    "* learning rate : It indicates the degree of descending size.\n",
    "\n",
    "![Imgur](https://pbs.twimg.com/media/DK26ibcXUAEOwel.jpg)\n"
   ]
  },
  {
   "cell_type": "code",
   "execution_count": 54,
   "metadata": {
    "_cell_guid": "18dfcd2a-0aec-4f8a-a0e1-a02fde100ce4",
    "_uuid": "e9c0efc262d925208e145d0e50205233d5f90094"
   },
   "outputs": [],
   "source": [
    "#train  = tf.train.GradientDescentOptimizer(learning_rate=0.05).minimize(cost)\n",
    "train = tf.train.AdamOptimizer(learning_rate=0.01).minimize(cost) "
   ]
  },
  {
   "cell_type": "markdown",
   "metadata": {
    "_cell_guid": "85f44f04-0394-456b-93bb-c4bd85ccee91",
    "_uuid": "be68ae0d2c6773546b2d97bdee11b62eb8eaf463"
   },
   "source": [
    "## 6-7) Compare : original vs. prediction\n",
    "* tf.argmax() : since hypothesis is one-hot encoding(with 7 layers) you have to find max softmax results. \n",
    "(It returns the index value of the array with the largest probability)"
   ]
  },
  {
   "cell_type": "code",
   "execution_count": 55,
   "metadata": {
    "_cell_guid": "bda40bf4-c802-4f9b-9942-89240edc9a80",
    "_uuid": "44d99d7b7c0690c2bc4fbcfb169cea22d43c5f62"
   },
   "outputs": [],
   "source": [
    "prediction = tf.argmax(hypothesis, 1)\n",
    "correct_prediction = tf.equal(prediction, tf.argmax(Y_one_hot, 1))\n",
    "accuracy = tf.reduce_mean(tf.cast(correct_prediction, tf.float32))"
   ]
  },
  {
   "cell_type": "markdown",
   "metadata": {
    "_cell_guid": "0504cec6-4f4f-4b6d-874e-700baa33f1ef",
    "_uuid": "7938da57d0b501750da49ff39e9c01962b89f38a"
   },
   "source": [
    "---\n",
    "\n",
    "# 7. Activate Model\n"
   ]
  },
  {
   "cell_type": "code",
   "execution_count": 56,
   "metadata": {
    "_cell_guid": "55489e5b-b945-4176-9297-98f02ea687d5",
    "_uuid": "e1b011a26ba8c1dae90767e338f5ab34cacedcd9",
    "scrolled": true
   },
   "outputs": [
    {
     "name": "stdout",
     "output_type": "stream",
     "text": [
      "Step:     0\tLoss: 3.431\tAcc: 30.00%\n",
      "Step:  1000\tLoss: 0.022\tAcc: 91.43%\n",
      "Step:  2000\tLoss: 0.015\tAcc: 91.43%\n",
      "Step:  3000\tLoss: 0.013\tAcc: 91.43%\n",
      "Step:  4000\tLoss: 0.012\tAcc: 91.43%\n",
      "Step:  5000\tLoss: 0.011\tAcc: 91.43%\n",
      "Model Prediction = 0.9142857\n",
      "Test Prediction = 0.83870965\n"
     ]
    }
   ],
   "source": [
    "with tf.Session() as sess:\n",
    "    sess.run(tf.global_variables_initializer())\n",
    "    for step in range(5001):\n",
    "        sess.run(train, feed_dict={X: train_x, Y: train_y})\n",
    "        if step % 1000 == 0:\n",
    "            loss, acc = sess.run([cost, accuracy], feed_dict={X: train_x, Y: train_y})\n",
    "            print(\"Step: {:5}\\tLoss: {:.3f}\\tAcc: {:.2%}\".format(step, loss, acc))\n",
    "            \n",
    "    train_acc = sess.run(accuracy, feed_dict={X: train_x, Y: train_y})\n",
    "    test_acc,test_predict,test_correct = sess.run([accuracy,prediction,correct_prediction], feed_dict={X: test_x, Y: test_y})\n",
    "    print(\"Model Prediction =\", train_acc)\n",
    "    print(\"Test Prediction =\", test_acc)"
   ]
  },
  {
   "cell_type": "markdown",
   "metadata": {
    "_cell_guid": "cca018c0-3951-4ea8-9a26-2e8d1bce267c",
    "_uuid": "87bde3a36c9bb1a08e7b75194a5241cc31e99f8b"
   },
   "source": [
    "---\n",
    "\n",
    "# 8. Show Results"
   ]
  },
  {
   "cell_type": "code",
   "execution_count": 53,
   "metadata": {
    "_cell_guid": "a1e8d4fd-6220-4322-a610-b52db4d808a5",
    "_uuid": "54ad36efa8bd0f65ac1db36d00e4f2856a34e620"
   },
   "outputs": [
    {
     "data": {
      "text/html": [
       "<div>\n",
       "<style scoped>\n",
       "    .dataframe tbody tr th:only-of-type {\n",
       "        vertical-align: middle;\n",
       "    }\n",
       "\n",
       "    .dataframe tbody tr th {\n",
       "        vertical-align: top;\n",
       "    }\n",
       "\n",
       "    .dataframe thead th {\n",
       "        text-align: right;\n",
       "    }\n",
       "</style>\n",
       "<table border=\"1\" class=\"dataframe\">\n",
       "  <thead>\n",
       "    <tr style=\"text-align: right;\">\n",
       "      <th></th>\n",
       "      <th>Name</th>\n",
       "      <th>Predict_Type</th>\n",
       "      <th>Origin_Type</th>\n",
       "      <th>Correct</th>\n",
       "    </tr>\n",
       "  </thead>\n",
       "  <tbody>\n",
       "    <tr>\n",
       "      <th>100</th>\n",
       "      <td>wren</td>\n",
       "      <td>2</td>\n",
       "      <td>2</td>\n",
       "      <td>True</td>\n",
       "    </tr>\n",
       "    <tr>\n",
       "      <th>58</th>\n",
       "      <td>penguin</td>\n",
       "      <td>2</td>\n",
       "      <td>2</td>\n",
       "      <td>True</td>\n",
       "    </tr>\n",
       "    <tr>\n",
       "      <th>43</th>\n",
       "      <td>lark</td>\n",
       "      <td>2</td>\n",
       "      <td>2</td>\n",
       "      <td>True</td>\n",
       "    </tr>\n",
       "    <tr>\n",
       "      <th>21</th>\n",
       "      <td>duck</td>\n",
       "      <td>2</td>\n",
       "      <td>2</td>\n",
       "      <td>True</td>\n",
       "    </tr>\n",
       "    <tr>\n",
       "      <th>10</th>\n",
       "      <td>cheetah</td>\n",
       "      <td>1</td>\n",
       "      <td>1</td>\n",
       "      <td>True</td>\n",
       "    </tr>\n",
       "    <tr>\n",
       "      <th>40</th>\n",
       "      <td>housefly</td>\n",
       "      <td>6</td>\n",
       "      <td>6</td>\n",
       "      <td>True</td>\n",
       "    </tr>\n",
       "    <tr>\n",
       "      <th>50</th>\n",
       "      <td>mongoose</td>\n",
       "      <td>1</td>\n",
       "      <td>1</td>\n",
       "      <td>True</td>\n",
       "    </tr>\n",
       "    <tr>\n",
       "      <th>4</th>\n",
       "      <td>boar</td>\n",
       "      <td>1</td>\n",
       "      <td>1</td>\n",
       "      <td>True</td>\n",
       "    </tr>\n",
       "    <tr>\n",
       "      <th>87</th>\n",
       "      <td>swan</td>\n",
       "      <td>2</td>\n",
       "      <td>2</td>\n",
       "      <td>True</td>\n",
       "    </tr>\n",
       "    <tr>\n",
       "      <th>80</th>\n",
       "      <td>slowworm</td>\n",
       "      <td>3</td>\n",
       "      <td>3</td>\n",
       "      <td>True</td>\n",
       "    </tr>\n",
       "    <tr>\n",
       "      <th>70</th>\n",
       "      <td>reindeer</td>\n",
       "      <td>1</td>\n",
       "      <td>1</td>\n",
       "      <td>True</td>\n",
       "    </tr>\n",
       "    <tr>\n",
       "      <th>37</th>\n",
       "      <td>hawk</td>\n",
       "      <td>2</td>\n",
       "      <td>2</td>\n",
       "      <td>True</td>\n",
       "    </tr>\n",
       "    <tr>\n",
       "      <th>7</th>\n",
       "      <td>carp</td>\n",
       "      <td>4</td>\n",
       "      <td>4</td>\n",
       "      <td>True</td>\n",
       "    </tr>\n",
       "    <tr>\n",
       "      <th>44</th>\n",
       "      <td>leopard</td>\n",
       "      <td>1</td>\n",
       "      <td>1</td>\n",
       "      <td>True</td>\n",
       "    </tr>\n",
       "    <tr>\n",
       "      <th>53</th>\n",
       "      <td>octopus</td>\n",
       "      <td>0</td>\n",
       "      <td>7</td>\n",
       "      <td>True</td>\n",
       "    </tr>\n",
       "    <tr>\n",
       "      <th>60</th>\n",
       "      <td>pike</td>\n",
       "      <td>4</td>\n",
       "      <td>4</td>\n",
       "      <td>True</td>\n",
       "    </tr>\n",
       "    <tr>\n",
       "      <th>84</th>\n",
       "      <td>squirrel</td>\n",
       "      <td>1</td>\n",
       "      <td>1</td>\n",
       "      <td>True</td>\n",
       "    </tr>\n",
       "    <tr>\n",
       "      <th>47</th>\n",
       "      <td>lynx</td>\n",
       "      <td>1</td>\n",
       "      <td>1</td>\n",
       "      <td>True</td>\n",
       "    </tr>\n",
       "    <tr>\n",
       "      <th>94</th>\n",
       "      <td>vole</td>\n",
       "      <td>1</td>\n",
       "      <td>1</td>\n",
       "      <td>True</td>\n",
       "    </tr>\n",
       "    <tr>\n",
       "      <th>89</th>\n",
       "      <td>toad</td>\n",
       "      <td>5</td>\n",
       "      <td>5</td>\n",
       "      <td>True</td>\n",
       "    </tr>\n",
       "    <tr>\n",
       "      <th>92</th>\n",
       "      <td>tuna</td>\n",
       "      <td>4</td>\n",
       "      <td>4</td>\n",
       "      <td>True</td>\n",
       "    </tr>\n",
       "    <tr>\n",
       "      <th>93</th>\n",
       "      <td>vampire</td>\n",
       "      <td>1</td>\n",
       "      <td>1</td>\n",
       "      <td>True</td>\n",
       "    </tr>\n",
       "    <tr>\n",
       "      <th>49</th>\n",
       "      <td>mole</td>\n",
       "      <td>1</td>\n",
       "      <td>1</td>\n",
       "      <td>True</td>\n",
       "    </tr>\n",
       "    <tr>\n",
       "      <th>12</th>\n",
       "      <td>chub</td>\n",
       "      <td>4</td>\n",
       "      <td>4</td>\n",
       "      <td>True</td>\n",
       "    </tr>\n",
       "    <tr>\n",
       "      <th>31</th>\n",
       "      <td>goat</td>\n",
       "      <td>1</td>\n",
       "      <td>1</td>\n",
       "      <td>True</td>\n",
       "    </tr>\n",
       "    <tr>\n",
       "      <th>76</th>\n",
       "      <td>seasnake</td>\n",
       "      <td>3</td>\n",
       "      <td>3</td>\n",
       "      <td>True</td>\n",
       "    </tr>\n",
       "    <tr>\n",
       "      <th>77</th>\n",
       "      <td>seawasp</td>\n",
       "      <td>4</td>\n",
       "      <td>7</td>\n",
       "      <td>False</td>\n",
       "    </tr>\n",
       "    <tr>\n",
       "      <th>65</th>\n",
       "      <td>pony</td>\n",
       "      <td>1</td>\n",
       "      <td>1</td>\n",
       "      <td>True</td>\n",
       "    </tr>\n",
       "    <tr>\n",
       "      <th>14</th>\n",
       "      <td>crab</td>\n",
       "      <td>5</td>\n",
       "      <td>7</td>\n",
       "      <td>False</td>\n",
       "    </tr>\n",
       "    <tr>\n",
       "      <th>51</th>\n",
       "      <td>moth</td>\n",
       "      <td>6</td>\n",
       "      <td>6</td>\n",
       "      <td>True</td>\n",
       "    </tr>\n",
       "    <tr>\n",
       "      <th>22</th>\n",
       "      <td>elephant</td>\n",
       "      <td>1</td>\n",
       "      <td>1</td>\n",
       "      <td>True</td>\n",
       "    </tr>\n",
       "  </tbody>\n",
       "</table>\n",
       "</div>"
      ],
      "text/plain": [
       "         Name  Predict_Type  Origin_Type  Correct\n",
       "100      wren             2            2     True\n",
       "58    penguin             2            2     True\n",
       "43       lark             2            2     True\n",
       "21       duck             2            2     True\n",
       "10    cheetah             1            1     True\n",
       "40   housefly             6            6     True\n",
       "50   mongoose             1            1     True\n",
       "4        boar             1            1     True\n",
       "87       swan             2            2     True\n",
       "80   slowworm             3            3     True\n",
       "70   reindeer             1            1     True\n",
       "37       hawk             2            2     True\n",
       "7        carp             4            4     True\n",
       "44    leopard             1            1     True\n",
       "53    octopus             0            7     True\n",
       "60       pike             4            4     True\n",
       "84   squirrel             1            1     True\n",
       "47       lynx             1            1     True\n",
       "94       vole             1            1     True\n",
       "89       toad             5            5     True\n",
       "92       tuna             4            4     True\n",
       "93    vampire             1            1     True\n",
       "49       mole             1            1     True\n",
       "12       chub             4            4     True\n",
       "31       goat             1            1     True\n",
       "76   seasnake             3            3     True\n",
       "77    seawasp             4            7    False\n",
       "65       pony             1            1     True\n",
       "14       crab             5            7    False\n",
       "51       moth             6            6     True\n",
       "22   elephant             1            1     True"
      ]
     },
     "execution_count": 53,
     "metadata": {},
     "output_type": "execute_result"
    }
   ],
   "source": [
    "sub = pd.DataFrame()\n",
    "sub['Name'] = test_name\n",
    "sub['Predict_Type'] = test_predict\n",
    "sub['Origin_Type'] = test_y\n",
    "sub['Correct'] = test_correct\n",
    "sub"
   ]
  },
  {
   "cell_type": "markdown",
   "metadata": {
    "_cell_guid": "836dbbc0-82ee-4c6f-9994-d3bbd80651e5",
    "_uuid": "4e2a5782d75864347332a5c612d98801fbf39ef8"
   },
   "source": [
    "---\n",
    "\n",
    "# 9. Conclusion\n",
    "You can make your own ANN model with modifying **learning_rate, step range**."
   ]
  },
  {
   "cell_type": "code",
   "execution_count": null,
   "metadata": {},
   "outputs": [],
   "source": []
  }
 ],
 "metadata": {
  "kernelspec": {
   "display_name": "Python 3 (ipykernel)",
   "language": "python",
   "name": "python3"
  },
  "language_info": {
   "codemirror_mode": {
    "name": "ipython",
    "version": 3
   },
   "file_extension": ".py",
   "mimetype": "text/x-python",
   "name": "python",
   "nbconvert_exporter": "python",
   "pygments_lexer": "ipython3",
   "version": "3.9.7"
  }
 },
 "nbformat": 4,
 "nbformat_minor": 1
}
