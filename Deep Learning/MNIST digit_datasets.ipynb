{
 "cells": [
  {
   "cell_type": "code",
   "execution_count": 1,
   "id": "eabe625b",
   "metadata": {},
   "outputs": [],
   "source": [
    "import pandas as pd\n",
    "import numpy as np\n",
    "from sklearn.datasets import load_digits\n",
    "digits = load_digits()"
   ]
  },
  {
   "cell_type": "code",
   "execution_count": 2,
   "id": "3d7f8e87",
   "metadata": {},
   "outputs": [
    {
     "data": {
      "text/plain": [
       "['DESCR', 'data', 'feature_names', 'frame', 'images', 'target', 'target_names']"
      ]
     },
     "execution_count": 2,
     "metadata": {},
     "output_type": "execute_result"
    }
   ],
   "source": [
    "dir(digits)\n"
   ]
  },
  {
   "cell_type": "code",
   "execution_count": 3,
   "id": "b4d4d0d7",
   "metadata": {},
   "outputs": [
    {
     "name": "stdout",
     "output_type": "stream",
     "text": [
      "(8, 8)\n",
      "(8, 8)\n",
      "(8, 8)\n",
      "(8, 8)\n"
     ]
    },
    {
     "data": {
      "text/plain": [
       "<Figure size 432x288 with 0 Axes>"
      ]
     },
     "metadata": {},
     "output_type": "display_data"
    },
    {
     "data": {
      "image/png": "[encoded data removed]",
      "text/plain": [
       "<Figure size 288x288 with 1 Axes>"
      ]
     },
     "metadata": {
      "needs_background": "light"
     },
     "output_type": "display_data"
    },
    {
     "data": {
      "image/png": "[encoded data removed]",
      "text/plain": [
       "<Figure size 288x288 with 1 Axes>"
      ]
     },
     "metadata": {
      "needs_background": "light"
     },
     "output_type": "display_data"
    },
    {
     "data": {
      "image/png": "[encoded data removed]",
      "text/plain": [
       "<Figure size 288x288 with 1 Axes>"
      ]
     },
     "metadata": {
      "needs_background": "light"
     },
     "output_type": "display_data"
    },
    {
     "data": {
      "image/png": "[encoded data removed]",
      "text/plain": [
       "<Figure size 288x288 with 1 Axes>"
      ]
     },
     "metadata": {
      "needs_background": "light"
     },
     "output_type": "display_data"
    }
   ],
   "source": [
    "import matplotlib.pyplot as plt\n",
    "# % matplotlib incline\n",
    "plt.gray()\n",
    "for i in range(4):\n",
    "    plt.matshow(digits.images[i])\n",
    "    print(digits.images[i].shape)"
   ]
  },
  {
   "cell_type": "code",
   "execution_count": 4,
   "id": "e9d1668e",
   "metadata": {},
   "outputs": [
    {
     "name": "stdout",
     "output_type": "stream",
     "text": [
      "    0    1    2     3     4     5    6    7    8    9   ...   54   55   56  \\\n",
      "0  0.0  0.0  5.0  13.0   9.0   1.0  0.0  0.0  0.0  0.0  ...  0.0  0.0  0.0   \n",
      "1  0.0  0.0  0.0  12.0  13.0   5.0  0.0  0.0  0.0  0.0  ...  0.0  0.0  0.0   \n",
      "2  0.0  0.0  0.0   4.0  15.0  12.0  0.0  0.0  0.0  0.0  ...  5.0  0.0  0.0   \n",
      "3  0.0  0.0  7.0  15.0  13.0   1.0  0.0  0.0  0.0  8.0  ...  9.0  0.0  0.0   \n",
      "4  0.0  0.0  0.0   1.0  11.0   0.0  0.0  0.0  0.0  0.0  ...  0.0  0.0  0.0   \n",
      "\n",
      "    57   58    59    60    61   62   63  \n",
      "0  0.0  6.0  13.0  10.0   0.0  0.0  0.0  \n",
      "1  0.0  0.0  11.0  16.0  10.0  0.0  0.0  \n",
      "2  0.0  0.0   3.0  11.0  16.0  9.0  0.0  \n",
      "3  0.0  7.0  13.0  13.0   9.0  0.0  0.0  \n",
      "4  0.0  0.0   2.0  16.0   4.0  0.0  0.0  \n",
      "\n",
      "[5 rows x 64 columns]\n"
     ]
    }
   ],
   "source": [
    "df = pd.DataFrame(digits.data)\n",
    "print(df.head())"
   ]
  },
  {
   "cell_type": "code",
   "execution_count": 5,
   "id": "858331bf",
   "metadata": {},
   "outputs": [
    {
     "name": "stdout",
     "output_type": "stream",
     "text": [
      "[0 1 2 ... 8 9 8]\n"
     ]
    }
   ],
   "source": [
    "df.shape\n",
    "print(digits.target)"
   ]
  },
  {
   "cell_type": "code",
   "execution_count": 6,
   "id": "b3813ea8",
   "metadata": {},
   "outputs": [
    {
     "name": "stdout",
     "output_type": "stream",
     "text": [
      "     0    1    2     3     4     5    6    7    8    9  ...   55   56   57  \\\n",
      "0  0.0  0.0  5.0  13.0   9.0   1.0  0.0  0.0  0.0  0.0  ...  0.0  0.0  0.0   \n",
      "1  0.0  0.0  0.0  12.0  13.0   5.0  0.0  0.0  0.0  0.0  ...  0.0  0.0  0.0   \n",
      "2  0.0  0.0  0.0   4.0  15.0  12.0  0.0  0.0  0.0  0.0  ...  0.0  0.0  0.0   \n",
      "3  0.0  0.0  7.0  15.0  13.0   1.0  0.0  0.0  0.0  8.0  ...  0.0  0.0  0.0   \n",
      "4  0.0  0.0  0.0   1.0  11.0   0.0  0.0  0.0  0.0  0.0  ...  0.0  0.0  0.0   \n",
      "\n",
      "    58    59    60    61   62   63  target  \n",
      "0  6.0  13.0  10.0   0.0  0.0  0.0       0  \n",
      "1  0.0  11.0  16.0  10.0  0.0  0.0       1  \n",
      "2  0.0   3.0  11.0  16.0  9.0  0.0       2  \n",
      "3  7.0  13.0  13.0   9.0  0.0  0.0       3  \n",
      "4  0.0   2.0  16.0   4.0  0.0  0.0       4  \n",
      "\n",
      "[5 rows x 65 columns]\n"
     ]
    }
   ],
   "source": [
    "df['target'] = digits.target\n",
    "print(df.head())"
   ]
  },
  {
   "cell_type": "code",
   "execution_count": 7,
   "id": "80aad5e6",
   "metadata": {},
   "outputs": [],
   "source": [
    "from sklearn.model_selection import train_test_split\n",
    "x_train, x_test, y_train, y_test = train_test_split(df.drop(['target'],axis='columns'),digits.target, test_size=0.33 )"
   ]
  },
  {
   "cell_type": "code",
   "execution_count": 8,
   "id": "f8eb27a6",
   "metadata": {},
   "outputs": [
    {
     "data": {
      "text/plain": [
       "1203"
      ]
     },
     "execution_count": 8,
     "metadata": {},
     "output_type": "execute_result"
    }
   ],
   "source": [
    "len(x_train)"
   ]
  },
  {
   "cell_type": "code",
   "execution_count": 9,
   "id": "082f2ddf",
   "metadata": {},
   "outputs": [
    {
     "data": {
      "text/plain": [
       "RandomForestClassifier(n_estimators=10)"
      ]
     },
     "execution_count": 9,
     "metadata": {},
     "output_type": "execute_result"
    }
   ],
   "source": [
    "from sklearn.ensemble import RandomForestClassifier\n",
    "model = RandomForestClassifier(n_estimators=10)\n",
    "model.fit(x_train, y_train)"
   ]
  },
  {
   "cell_type": "code",
   "execution_count": 10,
   "id": "d613cab4",
   "metadata": {},
   "outputs": [
    {
     "data": {
      "text/plain": [
       "0.9393939393939394"
      ]
     },
     "execution_count": 10,
     "metadata": {},
     "output_type": "execute_result"
    }
   ],
   "source": [
    "model.score(x_test,y_test)"
   ]
  },
  {
   "cell_type": "code",
   "execution_count": 11,
   "id": "b741e77a",
   "metadata": {},
   "outputs": [
    {
     "name": "stdout",
     "output_type": "stream",
     "text": [
      "[7 9 7 5 9 3 2 9 7 5 8 5 7 3 2 1 9 3 6 5 6 9 3 3 8 0 3 2 2 4 3 2 1 0 8 3 0\n",
      " 5 7 2 8 6 6 2 3 7 9 3 0 1 0 2 3 1 6 6 5 2 4 1 3 5 1 3 9 0 7 6 0 2 4 9 0 6\n",
      " 4 8 3 3 2 4 0 1 8 6 7 8 1 4 9 6 0 8 6 6 1 7 6 4 1 7 9 1 1 7 7 3 2 1 1 5 2\n",
      " 9 4 5 0 1 6 3 7 9 6 0 2 9 0 8 1 4 0 1 3 3 6 4 2 1 3 5 2 0 9 2 5 9 2 7 5 2\n",
      " 2 3 6 7 2 3 0 3 5 6 7 0 1 6 0 8 3 1 8 3 4 6 6 2 1 6 6 5 9 9 8 6 5 5 9 3 9\n",
      " 5 8 4 3 4 2 6 2 2 4 0 9 6 4 4 1 1 9 9 1 9 6 7 7 3 1 3 6 6 2 7 5 5 1 4 6 9\n",
      " 4 7 2 5 4 5 8 9 8 9 5 5 5 3 3 4 3 4 0 5 1 7 8 3 5 3 9 6 1 1 2 9 1 2 3 6 5\n",
      " 0 2 3 0 8 8 3 1 5 8 9 5 7 1 8 7 6 6 5 6 9 8 0 3 2 2 1 4 2 5 2 0 6 7 5 5 1\n",
      " 4 3 3 7 3 0 1 1 8 9 9 4 1 3 8 4 5 1 5 4 5 9 0 1 2 6 8 2 4 3 5 5 9 3 2 5 1\n",
      " 4 2 4 8 7 6 9 1 1 4 5 5 2 2 2 3 7 1 9 8 2 3 4 4 2 8 1 0 1 3 1 7 1 2 5 2 0\n",
      " 5 5 1 3 0 7 4 0 6 0 9 8 0 8 3 9 4 7 3 4 4 7 4 9 3 7 3 4 5 1 8 0 8 2 8 7 5\n",
      " 5 1 7 1 9 4 8 0 9 4 1 0 1 3 5 4 3 9 7 4 4 8 9 9 8 1 1 8 0 6 1 1 3 1 5 7 8\n",
      " 9 8 5 9 8 2 5 5 6 4 4 2 0 9 1 8 5 4 8 1 5 0 5 1 8 3 0 0 8 1 5 4 7 1 7 8 9\n",
      " 7 3 7 6 6 2 5 1 6 9 0 1 4 2 6 0 5 3 2 4 2 7 3 0 3 8 6 2 8 4 0 4 3 1 1 7 4\n",
      " 1 9 3 8 9 6 4 6 0 1 5 6 0 4 7 7 0 0 3 4 0 6 2 7 1 9 0 3 5 2 9 1 0 1 8 0 7\n",
      " 2 7 9 8 9 9 7 4 9 8 4 3 7 9 6 4 5 4 5 0 5 7 5 3 5 7 8 3 4 8 0 4 2 8 2 5 7\n",
      " 6 2]\n"
     ]
    }
   ],
   "source": [
    "y_predict = model.predict(x_test)\n",
    "print(y_predict)"
   ]
  },
  {
   "cell_type": "code",
   "execution_count": 12,
   "id": "6cdefdf0",
   "metadata": {},
   "outputs": [
    {
     "data": {
      "text/plain": [
       "array([[52,  0,  0,  0,  1,  0,  1,  0,  0,  0],\n",
       "       [ 0, 65,  1,  0,  0,  0,  0,  0,  0,  0],\n",
       "       [ 0,  1, 53,  0,  0,  0,  0,  0,  0,  1],\n",
       "       [ 0,  1,  2, 63,  0,  0,  0,  0,  1,  1],\n",
       "       [ 0,  0,  0,  0, 58,  1,  0,  0,  1,  0],\n",
       "       [ 0,  0,  0,  0,  1, 64,  1,  0,  0,  1],\n",
       "       [ 0,  1,  0,  0,  0,  0, 49,  0,  1,  0],\n",
       "       [ 0,  0,  0,  0,  1,  0,  0, 51,  0,  1],\n",
       "       [ 0,  3,  2,  2,  0,  1,  1,  1, 49,  0],\n",
       "       [ 2,  1,  1,  2,  0,  0,  0,  0,  1, 54]], dtype=int64)"
      ]
     },
     "execution_count": 12,
     "metadata": {},
     "output_type": "execute_result"
    }
   ],
   "source": [
    "#Create Confusion Matrix \n",
    "from sklearn.metrics import confusion_matrix\n",
    "cm = confusion_matrix(y_test, y_predict)\n",
    "cm"
   ]
  },
  {
   "cell_type": "code",
   "execution_count": 13,
   "id": "ac341433",
   "metadata": {},
   "outputs": [
    {
     "data": {
      "text/plain": [
       "Text(69.0, 0.5, 'truth')"
      ]
     },
     "execution_count": 13,
     "metadata": {},
     "output_type": "execute_result"
    },
    {
     "data": {
      "image/png": "[encoded data removed]",
      "text/plain": [
       "<Figure size 720x504 with 2 Axes>"
      ]
     },
     "metadata": {
      "needs_background": "light"
     },
     "output_type": "display_data"
    }
   ],
   "source": [
    "# Visualise Cinfusion Matrices\n",
    "import matplotlib.pyplot as plt\n",
    "import seaborn as sns\n",
    "plt.figure(figsize=(10,7))\n",
    "sns.heatmap(cm, annot=True)\n",
    "plt.xlabel('predicted')\n",
    "plt.ylabel('truth')"
   ]
  },
  {
   "cell_type": "code",
   "execution_count": null,
   "id": "15a323c4",
   "metadata": {},
   "outputs": [],
   "source": []
  }
 ],
 "metadata": {
  "kernelspec": {
   "display_name": "Python 3 (ipykernel)",
   "language": "python",
   "name": "python3"
  },
  "language_info": {
   "codemirror_mode": {
    "name": "ipython",
    "version": 3
   },
   "file_extension": ".py",
   "mimetype": "text/x-python",
   "name": "python",
   "nbconvert_exporter": "python",
   "pygments_lexer": "ipython3",
   "version": "3.9.7"
  }
 },
 "nbformat": 4,
 "nbformat_minor": 5
}
