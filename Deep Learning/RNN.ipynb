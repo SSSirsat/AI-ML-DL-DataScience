{
 "cells": [
  {
   "cell_type": "code",
   "execution_count": 1,
   "id": "8ab471c4",
   "metadata": {},
   "outputs": [],
   "source": [
    "import tensorflow as tf\n",
    "from tensorflow import keras\n",
    "import numpy as np\n",
    "import os\n",
    "import time"
   ]
  },
  {
   "cell_type": "code",
   "execution_count": 2,
   "id": "bdb802dc",
   "metadata": {},
   "outputs": [],
   "source": [
    "path_to_file = tf.keras.utils.get_file('shakespeare.txt', 'https://storage.googleapis.com/download.tensorflow.org/data/shakespeare.txt')"
   ]
  },
  {
   "cell_type": "code",
   "execution_count": 3,
   "id": "65e4da09",
   "metadata": {},
   "outputs": [
    {
     "name": "stdout",
     "output_type": "stream",
     "text": [
      "Length of text: 1115394 characters\n"
     ]
    }
   ],
   "source": [
    "# Read, then decode for py2 compat.\n",
    "text = open(path_to_file, 'rb').read().decode(encoding='utf-8')\n",
    "# length of text is the number of characters in it\n",
    "print(f'Length of text: {len(text)} characters')"
   ]
  },
  {
   "cell_type": "code",
   "execution_count": 4,
   "id": "d9e46f2a",
   "metadata": {},
   "outputs": [
    {
     "name": "stdout",
     "output_type": "stream",
     "text": [
      "First Citizen:\n",
      "Before we proceed any further, hear me speak.\n",
      "\n",
      "All:\n",
      "Speak, speak.\n",
      "\n",
      "First Citizen:\n",
      "You are all resolved rather to die than to famish?\n",
      "\n",
      "All:\n",
      "Resolved. resolved.\n",
      "\n",
      "First Citizen:\n",
      "First, you\n"
     ]
    }
   ],
   "source": [
    "print(text[:200])"
   ]
  },
  {
   "cell_type": "code",
   "execution_count": 5,
   "id": "ee4477bb",
   "metadata": {},
   "outputs": [
    {
     "name": "stdout",
     "output_type": "stream",
     "text": [
      "65 unique characters\n"
     ]
    }
   ],
   "source": [
    "# The unique characters in the file\n",
    "vocab = sorted(set(text))\n",
    "print(f'{len(vocab)} unique characters')"
   ]
  },
  {
   "cell_type": "code",
   "execution_count": 6,
   "id": "c9ada424",
   "metadata": {},
   "outputs": [],
   "source": [
    "# lines = []\n",
    "# for l in text:\n",
    "#     line = l.strip().lower()\n",
    "#     if len(line)>0:\n",
    "#         lines.append(line)\n",
    "#     text.close()\n",
    "# print(lines)\n"
   ]
  },
  {
   "cell_type": "code",
   "execution_count": 7,
   "id": "cfa445e9",
   "metadata": {},
   "outputs": [
    {
     "name": "stdout",
     "output_type": "stream",
     "text": [
      "['\\n', ' ', '!', '$', '&', \"'\", ',', '-', '.', '3', ':', ';', '?', 'A', 'B', 'C', 'D', 'E', 'F', 'G', 'H', 'I', 'J', 'K', 'L', 'M', 'N', 'O', 'P', 'Q', 'R', 'S', 'T', 'U', 'V', 'W', 'X', 'Y', 'Z', 'a', 'b', 'c', 'd', 'e', 'f', 'g', 'h', 'i', 'j', 'k', 'l', 'm', 'n', 'o', 'p', 'q', 'r', 's', 't', 'u', 'v', 'w', 'x', 'y', 'z']\n"
     ]
    }
   ],
   "source": [
    "#create a look up table\n",
    "chars = set([c for c in text])\n",
    "chars_len = len(chars)\n",
    "print(sorted(chars))"
   ]
  },
  {
   "cell_type": "code",
   "execution_count": 8,
   "id": "e2b55e45",
   "metadata": {},
   "outputs": [
    {
     "name": "stdout",
     "output_type": "stream",
     "text": [
      "{'$': 0, '\\n': 1, 'l': 2, 'V': 3, 'T': 4, 'k': 5, 'E': 6, ';': 7, ':': 8, 'x': 9, 'j': 10, 'Z': 11, 'Y': 12, 'a': 13, 't': 14, 'm': 15, ',': 16, '-': 17, 'h': 18, 'U': 19, 'z': 20, '?': 21, 'f': 22, 'r': 23, 'e': 24, 'i': 25, 'n': 26, 'B': 27, 'M': 28, 'D': 29, 'N': 30, 'q': 31, 'K': 32, '&': 33, 'A': 34, 'd': 35, 'c': 36, 'G': 37, 'L': 38, 'b': 39, 'y': 40, 'u': 41, 'X': 42, 'S': 43, 'g': 44, '.': 45, \"'\": 46, 'w': 47, '!': 48, 'p': 49, '3': 50, 'R': 51, 'I': 52, 'C': 53, 'P': 54, 'o': 55, 'W': 56, 'H': 57, 'O': 58, 's': 59, 'F': 60, ' ': 61, 'J': 62, 'v': 63, 'Q': 64}\n",
      "{0: '$', 1: '\\n', 2: 'l', 3: 'V', 4: 'T', 5: 'k', 6: 'E', 7: ';', 8: ':', 9: 'x', 10: 'j', 11: 'Z', 12: 'Y', 13: 'a', 14: 't', 15: 'm', 16: ',', 17: '-', 18: 'h', 19: 'U', 20: 'z', 21: '?', 22: 'f', 23: 'r', 24: 'e', 25: 'i', 26: 'n', 27: 'B', 28: 'M', 29: 'D', 30: 'N', 31: 'q', 32: 'K', 33: '&', 34: 'A', 35: 'd', 36: 'c', 37: 'G', 38: 'L', 39: 'b', 40: 'y', 41: 'u', 42: 'X', 43: 'S', 44: 'g', 45: '.', 46: \"'\", 47: 'w', 48: '!', 49: 'p', 50: '3', 51: 'R', 52: 'I', 53: 'C', 54: 'P', 55: 'o', 56: 'W', 57: 'H', 58: 'O', 59: 's', 60: 'F', 61: ' ', 62: 'J', 63: 'v', 64: 'Q'}\n"
     ]
    }
   ],
   "source": [
    "#create a dictionary\n",
    "char_to_index = dict((c,i) for i,c in enumerate(chars))\n",
    "index_to_char = dict((i,c) for i,c in enumerate(chars))\n",
    "print(char_to_index)\n",
    "print(index_to_char)"
   ]
  },
  {
   "cell_type": "code",
   "execution_count": 10,
   "id": "edb9f126",
   "metadata": {},
   "outputs": [
    {
     "name": "stdout",
     "output_type": "stream",
     "text": [
      "st Citizen\n",
      ":\n"
     ]
    }
   ],
   "source": [
    "seq_len = 10\n",
    "\n",
    "Input =[]\n",
    "Labels = []\n",
    "for counter in range(len(text)-seq_len):\n",
    "    Input.append(text[counter : counter + seq_len])\n",
    "    Labels.append(text[counter + seq_len])\n",
    "    \n",
    "print(Input[3])\n",
    "print(Labels[3])\n"
   ]
  },
  {
   "cell_type": "code",
   "execution_count": 12,
   "id": "cc44270e",
   "metadata": {},
   "outputs": [
    {
     "name": "stdout",
     "output_type": "stream",
     "text": [
      "creating vectors:\n"
     ]
    },
    {
     "name": "stderr",
     "output_type": "stream",
     "text": [
      "C:\\Users\\Shubham\\AppData\\Local\\Temp/ipykernel_5276/1007406263.py:2: DeprecationWarning: `np.bool` is a deprecated alias for the builtin `bool`. To silence this warning, use `bool` by itself. Doing this will not modify any behavior and is safe. If you specifically wanted the numpy scalar type, use `np.bool_` here.\n",
      "Deprecated in NumPy 1.20; for more details and guidance: https://numpy.org/devdocs/release/1.20.0-notes.html#deprecations\n",
      "  x =np.zeros((len(Input), seq_len, chars_len), dtype=np.bool)\n",
      "C:\\Users\\Shubham\\AppData\\Local\\Temp/ipykernel_5276/1007406263.py:3: DeprecationWarning: `np.bool` is a deprecated alias for the builtin `bool`. To silence this warning, use `bool` by itself. Doing this will not modify any behavior and is safe. If you specifically wanted the numpy scalar type, use `np.bool_` here.\n",
      "Deprecated in NumPy 1.20; for more details and guidance: https://numpy.org/devdocs/release/1.20.0-notes.html#deprecations\n",
      "  y= np.zeros((len(Input),chars_len), dtype=np.bool)\n"
     ]
    }
   ],
   "source": [
    "print(\"creating vectors:\")\n",
    "x =np.zeros((len(Input), seq_len, chars_len), dtype=np.bool)\n",
    "y= np.zeros((len(Input),chars_len), dtype=np.bool)\n",
    "\n",
    "for i,char in enumerate(Input):\n",
    "    for j, c in enumerate(char):\n",
    "        x[i,j, char_to_index[c]] =1\n",
    "    y[i,char_to_index[Labels[i]]] = 1\n",
    "    "
   ]
  },
  {
   "cell_type": "code",
   "execution_count": 14,
   "id": "a36e69a3",
   "metadata": {},
   "outputs": [
    {
     "ename": "SyntaxError",
     "evalue": "positional argument follows keyword argument (Temp/ipykernel_5276/2822171933.py, line 6)",
     "output_type": "error",
     "traceback": [
      "\u001b[1;36m  File \u001b[1;32m\"C:\\Users\\Shubham\\AppData\\Local\\Temp/ipykernel_5276/2822171933.py\"\u001b[1;36m, line \u001b[1;32m6\u001b[0m\n\u001b[1;33m    dl_model.add(SimpleRNN(128, return_sequences=False, input_shape(seq_len, chars_len)))\u001b[0m\n\u001b[1;37m                                                                                       ^\u001b[0m\n\u001b[1;31mSyntaxError\u001b[0m\u001b[1;31m:\u001b[0m positional argument follows keyword argument\n"
     ]
    }
   ],
   "source": [
    "from keras.layers.recurrent import SimpleRNN\n",
    "from keras.models import Sequential\n",
    "from keras.layers import Activation, Dense\n",
    "\n",
    "dl_model = Sequential()\n",
    "dl_model.add(SimpleRNN(128, return_sequences=False, input_shape(seq_len, chars_len)))\n",
    "dl_model.add(Dense(chars_len))\n",
    "dl_model.add(Activation('Softmax'))\n",
    "dl_model.compile(loss='categorical_crossentropy')\n",
    "\n",
    "for i in range(5):\n",
    "    print(\"Iteration:\", i)\n",
    "    dl_model.fit(x,y,batch_size=128, epochs=10)"
   ]
  },
  {
   "cell_type": "code",
   "execution_count": 19,
   "id": "0c51ffaa",
   "metadata": {},
   "outputs": [
    {
     "ename": "TypeError",
     "evalue": "'set' object is not subscriptable",
     "output_type": "error",
     "traceback": [
      "\u001b[1;31m---------------------------------------------------------------------------\u001b[0m",
      "\u001b[1;31mTypeError\u001b[0m                                 Traceback (most recent call last)",
      "\u001b[1;32m~\\AppData\\Local\\Temp/ipykernel_5276/3112822942.py\u001b[0m in \u001b[0;36m<module>\u001b[1;34m\u001b[0m\n\u001b[0;32m      2\u001b[0m \u001b[0mtest_input\u001b[0m \u001b[1;33m=\u001b[0m \u001b[0mnp\u001b[0m\u001b[1;33m.\u001b[0m\u001b[0mrandom\u001b[0m\u001b[1;33m.\u001b[0m\u001b[0mrandint\u001b[0m\u001b[1;33m(\u001b[0m\u001b[0mlen\u001b[0m\u001b[1;33m(\u001b[0m\u001b[0mchars\u001b[0m\u001b[1;33m)\u001b[0m\u001b[1;33m)\u001b[0m\u001b[1;33m\u001b[0m\u001b[1;33m\u001b[0m\u001b[0m\n\u001b[0;32m      3\u001b[0m \u001b[0mtest_input\u001b[0m\u001b[1;33m\u001b[0m\u001b[1;33m\u001b[0m\u001b[0m\n\u001b[1;32m----> 4\u001b[1;33m \u001b[0mtest_char\u001b[0m \u001b[1;33m=\u001b[0m \u001b[0mchars\u001b[0m\u001b[1;33m[\u001b[0m\u001b[0mtest_input\u001b[0m\u001b[1;33m]\u001b[0m\u001b[1;33m\u001b[0m\u001b[1;33m\u001b[0m\u001b[0m\n\u001b[0m\u001b[0;32m      5\u001b[0m \u001b[0mtest_char\u001b[0m\u001b[1;33m\u001b[0m\u001b[1;33m\u001b[0m\u001b[0m\n",
      "\u001b[1;31mTypeError\u001b[0m: 'set' object is not subscriptable"
     ]
    }
   ],
   "source": [
    "#test the model\n",
    "test_input = np.random.randint(len(chars))\n",
    "test_input\n",
    "test_char = chars[test_input]\n",
    "test_char\n"
   ]
  },
  {
   "cell_type": "code",
   "execution_count": null,
   "id": "0b90b05f",
   "metadata": {},
   "outputs": [],
   "source": []
  }
 ],
 "metadata": {
  "kernelspec": {
   "display_name": "my_dl_env",
   "language": "python",
   "name": "my_dl_env"
  },
  "language_info": {
   "codemirror_mode": {
    "name": "ipython",
    "version": 3
   },
   "file_extension": ".py",
   "mimetype": "text/x-python",
   "name": "python",
   "nbconvert_exporter": "python",
   "pygments_lexer": "ipython3",
   "version": "3.9.7"
  }
 },
 "nbformat": 4,
 "nbformat_minor": 5
}
